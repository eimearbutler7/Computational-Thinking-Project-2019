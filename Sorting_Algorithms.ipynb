{
 "cells": [
  {
   "cell_type": "markdown",
   "metadata": {},
   "source": [
    "# Sorting Algorithms Project, Compuational Thinking Module\n",
    "\n",
    "### Eimear Butler, April 2019"
   ]
  },
  {
   "cell_type": "markdown",
   "metadata": {},
   "source": [
    "For this project, I will write a Python application which will be used to benchmark five different sorting algorithms. \n",
    "\n",
    "The following 5 algorithms will be discussed:\n",
    "\n",
    "1. A simple comparison-based sort: Insertion Sort\n",
    "2. A simple comparison-based sort: Selection Sort\n",
    "3. A simple comparison-based sort: Bubble Sort\n",
    "4. An efficient comparison-based sort:  Quicksort\n",
    "5. A non-comparison sort: Bucket Sort\n",
    "\n",
    "Scoring for this report will be as follows: \n",
    "\n",
    "1. Python Application (15 marks)\n",
    "\n",
    "2. Introduction (10 marks): Introduce the concept of sorting and sorting algorithms, discuss the relevance of concepts such as complexity (time and space), performance, in-place sorting, stable sorting, comparator functions, comparison-based and non-comparison-based sorts, etc. \n",
    "2. Sorting Algorithms (5 x 5 = 25 marks): Introduce each of your chosen algorithms in turn, discuss their space and time complexity, and explain how each algorithm works using your own diagrams and different example input instances. \n",
    "3. Implementation & Benchmarking (10 marks): This section will describe the process followed when implementing the Java application above, and will present the results of your benchmarking. Discuss how the measured performance of the algorithms differed – were the results similar to what you would expect, given the time complexity of each chosen algorithm? In this section you should use both a table and a graph to summarise the results obtained (see samples below). \n"
   ]
  },
  {
   "cell_type": "markdown",
   "metadata": {},
   "source": [
    "# Introduction\n",
    "\n"
   ]
  },
  {
   "cell_type": "markdown",
   "metadata": {},
   "source": [
    "### Firstly I must import a number of supporting modules to have the functionality I need to complete this task...\n"
   ]
  },
  {
   "cell_type": "code",
   "execution_count": 1,
   "metadata": {},
   "outputs": [],
   "source": [
    "import numpy as np\n",
    "import pandas as pd\n",
    "import matplotlib.pyplot as plt\n",
    "import datetime\n",
    "import timeit\n",
    "import time\n",
    "from datetime import datetime\n",
    "from datetime import timedelta"
   ]
  },
  {
   "cell_type": "markdown",
   "metadata": {},
   "source": [
    "### Next, I create 8 different length arrays of random integers to use to test our sorting algorithms..."
   ]
  },
  {
   "cell_type": "code",
   "execution_count": null,
   "metadata": {},
   "outputs": [],
   "source": [
    "arr100 = np.random.randint(10000000, size=100)\n",
    "arr500 = np.random.randint(10000000, size=500)\n",
    "arr1000 = np.random.randint(10000000, size=1000)\n",
    "arr2500 = np.random.randint(10000000, size=2500)\n",
    "arr5000 = np.random.randint(10000000, size=5000)\n",
    "arr7500 = np.random.randint(10000000, size=7500)\n",
    "arr10000 = np.random.randint(10000000, size=10000)\n",
    "arr12500 = np.random.randint(10000000, size=12500)"
   ]
  },
  {
   "cell_type": "markdown",
   "metadata": {},
   "source": [
    "\n",
    "\n",
    "<img style=\"float: right;\" src=\"https://upload.wikimedia.org/wikipedia/commons/4/42/Insertion_sort.gif\" alt=\"insertion\" width=\"200\"/>\n",
    "\n",
    "# 1) Insertion Sort (Simple and efficient on small data): \n",
    "\n",
    "This sort takes each element, one by one and sorts it relative to all previously sorted data. By moving systematically through the data set, it eventually moves the elements into order. \n",
    "\n",
    "A visual demonstration of this is seen to the right. \n",
    "\n",
    "<br/>\n",
    "<br/>\n",
    "<br/>\n",
    "<br/>\n",
    "<br/>\n",
    "<br/>\n",
    "<br/>\n",
    "\n",
    "gif source: https://upload.wikimedia.org/wikipedia/commons/4/42/Insertion_sort.gif"
   ]
  },
  {
   "cell_type": "markdown",
   "metadata": {},
   "source": [
    "### A function that can do an Insertion Sort is below:"
   ]
  },
  {
   "cell_type": "code",
   "execution_count": null,
   "metadata": {},
   "outputs": [],
   "source": [
    "def insertionSort(arr):          #define a function called incertionSort which accepts an input called \"arr\"\n",
    "    for i in range(1, len(arr)): # For each entry in the list....  \n",
    "        key = arr[i] #create a variable called \"key\" which will be the data set at location \"i\"\n",
    "                     #as per line 5, \"i\" will be each of the locations in the data set\n",
    "        j = i-1      #j works to move the elements in the dataset that are greater than \"i\" one position infront of i\n",
    "                     # i.e. recognose it is greater than \"i\"  \n",
    "        while j >= 0 and key < arr[j] : #while loop determines if next number is bigger than the key and ensures that the sort terminates when the data set has been sorted\n",
    "            arr[j + 1] = arr[j] #moving to 1 position above \"j\" each time moves to the next position within the array \n",
    "            j -= 1          # decreasing \"j\" by 1 each time   \n",
    "        arr[j + 1] = key    #dataset location of j increasing by 1 moves key to next location in the list\n",
    "        \n",
    "    \n",
    "#Source: https://www.geeksforgeeks.org/insertion-sort/"
   ]
  },
  {
   "cell_type": "markdown",
   "metadata": {},
   "source": [
    "### Testing this out on a small dataset shows it indeed works"
   ]
  },
  {
   "cell_type": "code",
   "execution_count": null,
   "metadata": {},
   "outputs": [],
   "source": [
    "arr_ins = [12, 11, 13, 5, 6] \n",
    "\n",
    "insertionSort(arr_ins)\n",
    "for i in range(len(arr_ins)): \n",
    "    print (\"% d\" % arr_ins[i])\n"
   ]
  },
  {
   "cell_type": "markdown",
   "metadata": {},
   "source": [
    "### I tried to run the time check using the timeit function \n",
    "which was interesting to see but this did not give me the flexibilty to test multiple dataset sizes in a controled way where I could display the results I needed."
   ]
  },
  {
   "cell_type": "code",
   "execution_count": null,
   "metadata": {},
   "outputs": [],
   "source": [
    "# this code will only be executed once \n",
    "mysetup = \"from math import sqrt\"\n",
    "  \n",
    "# this code will be measured \n",
    "mycode = '''def insertionSort(arr1):          \n",
    "                for i in range(1, len(arr)): # For each entry in the list....  \n",
    "                    key = arr[i] #create a variable called \"key\" which will be the data set at location \"i\"\n",
    "                     #as per line 5, \"i\" will be each of the locations in the data set\n",
    "                    j = i-1      #j works to move the elements in the dataset that are greater than \"i\" one position infront of i\n",
    "                     # i.e. recognose it is greater than \"i\"  \n",
    "                while j >= 0 and key < arr[j] : #while loop to ensure sort terminates when the data set has been sorted\n",
    "                    arr[j + 1] = arr[j] #increasing \"j\" by 1 each time moves to the next position within the array \n",
    "                    j -= 1          # decreasing \"j\" by 1 again  \n",
    "                    arr[j + 1] = key    #dataset location of j increasing by 1\n",
    "            '''\n",
    " \n",
    "#print(timeit.timeit(setup = mysetup, stmt = mycode, number = 10000))\n",
    "\n",
    "insSort = np.average(timeit.repeat(setup = mysetup, stmt = mycode, repeat=10, number = 10000))\n",
    "ins_avg = round(insSort*1000, 4)\n",
    "print(\"Average run time for InsertionSort using timeit function, repeating the function 10 times, is\", ins_avg, 'miliseconds')\n",
    "\n",
    "# Source: https://www.geeksforgeeks.org/timeit-python-examples/   "
   ]
  },
  {
   "cell_type": "markdown",
   "metadata": {},
   "source": [
    "### The time to run the code for each of the 8 different sized datasets is run here instead..."
   ]
  },
  {
   "cell_type": "markdown",
   "metadata": {},
   "source": [
    "Note: according to ipython documentation, time.time returns \"the time in seconds since the epoch as a floating point number.\"\n",
    "\n",
    "Therefore, the result \"x\" below will be in seconds and we must multiply it by 1000 to then convert it into miliseconds as required by the assignment."
   ]
  },
  {
   "cell_type": "code",
   "execution_count": null,
   "metadata": {},
   "outputs": [],
   "source": [
    "### Create funstion to calculate th eaverage length of time the coe takes to run over 10 cycles ###\n",
    "\n",
    "def timer_test_ins(random_input): #create function with the random array as the input\n",
    "    output = []               #create empty list which will have the result of each sysle appended into it\n",
    "    for i in range(1, 11):    # instruct function to run 10 times\n",
    "        random_input        #generates a new array of random numbers for each run  \n",
    "        start = time.time() #time as the code processes this line\n",
    "        insertionSort(random_input) #the sort code function (previously programmed in) is run and uses the random array as the input list to sort \n",
    "        end = time.time() #time as the code processes this line\n",
    "        x = (end - start)*1000 #difference in time between start and end, multiplied by 1000 to convert seconds to miliseconds\n",
    "        output.append(x) #the resulting time is added to the list \n",
    "\n",
    "    y = sum(output)/len(output) #find the average of all 10 runs and store it as ins_y\n",
    "\n",
    "    return y  #return ins_y as the output from the function\n",
    "\n",
    "#code written myself with some inspiration from the suggested code provided in the assignment paper"
   ]
  },
  {
   "cell_type": "code",
   "execution_count": null,
   "metadata": {},
   "outputs": [],
   "source": [
    "ins_1 = timer_test_ins(arr100) #now call the function for each of the array sizes\n",
    "ins_2 = timer_test_ins(arr500)\n",
    "ins_3 = timer_test_ins(arr1000)\n",
    "ins_4 = timer_test_ins(arr2500)\n",
    "ins_5 = timer_test_ins(arr5000)\n",
    "ins_6 = timer_test_ins(arr7500)\n",
    "ins_7 = timer_test_ins(arr10000)\n",
    "ins_8 = timer_test_ins(arr12500)"
   ]
  },
  {
   "cell_type": "code",
   "execution_count": null,
   "metadata": {},
   "outputs": [],
   "source": [
    "ins_result = [round(ins_1, 4), round(ins_2, 4), round(ins_3, 4), round(ins_4, 4), round(ins_5, 4), round(ins_6, 4), round(ins_7, 4), round(ins_8, 4)] #create an array of the results\n",
    "index =['arr100', 'arr500', 'arr1000', 'arr2500', 'arr5000', 'arr7500', 'arr10000', 'arr12000']#create an index group to identify which result was from which input\n",
    "df = pd.DataFrame({'insertion_sort':ins_result, 'index':index}).set_index('index') #create dataframe to display the results\n",
    "df  #show df"
   ]
  },
  {
   "cell_type": "markdown",
   "metadata": {},
   "source": [
    "<img style=\"float: right;\" src=\"https://upload.wikimedia.org/wikipedia/commons/9/94/Selection-Sort-Animation.gif\" alt=\"insertion\" width=\"75\"/>\n",
    "\n",
    "# 2) Selection Sort (Simple and efficient on small data): \n",
    "\n",
    "This sort runs through either the full set of data (first run) or a subset of the data that has not been assigned a final location yet (all other remaining runs) each time to see which of the elements meets the criteria for the next position (lowest or highest depending on the requirements of the algorithm). Once it establishes the element that best fits, it allocates the element into that position and then moves onto the next run to find the next element that will best fit the next position. This again requires the algorith to look at all remaining elements.that do not yet have a location. \n",
    "\n",
    "\n",
    "A visual demonstration of this is seen on the right. \n",
    "\n",
    "\n",
    "\n",
    "<br/>\n",
    "\n",
    "gif source: https://upload.wikimedia.org/wikipedia/commons/9/94/Selection-Sort-Animation.gif\n",
    "\n"
   ]
  },
  {
   "cell_type": "markdown",
   "metadata": {},
   "source": [
    "### A function that can perform a Selection Sort is below:"
   ]
  },
  {
   "cell_type": "code",
   "execution_count": null,
   "metadata": {},
   "outputs": [],
   "source": [
    "import sys \n",
    "A = [64, 25, 12, 22, 11] \n",
    "  \n",
    "#def selectionSort(A):\n",
    "for i in range(len(A)):  \n",
    "    min_idx = i           \n",
    "    for j in range(i+1, len(A)):  \n",
    "        if A[min_idx] > A[j]:   \n",
    "            min_idx = j \n",
    "                     \n",
    "    A[i], A[min_idx] = A[min_idx], A[i] # move the \n",
    "        \n",
    "#source: https://www.geeksforgeeks.org/selection-sort/"
   ]
  },
  {
   "cell_type": "code",
   "execution_count": null,
   "metadata": {},
   "outputs": [],
   "source": [
    "def selectionSort(alist):\n",
    "    for fillslot in range(len(alist)-1,0,-1):    \n",
    "        positionOfMax=0\n",
    "        for location in range(1,fillslot+1):     #moving through the array...\n",
    "            if alist[location]>alist[positionOfMax]: #search for the smallest number in the unsorted array\n",
    "                positionOfMax = location            \n",
    "\n",
    "        temp = alist[fillslot]                 #move the smaller element into the first unsorted location\n",
    "        alist[fillslot] = alist[positionOfMax]  \n",
    "        alist[positionOfMax] = temp"
   ]
  },
  {
   "cell_type": "markdown",
   "metadata": {},
   "source": [
    "### Testing this out on a small dataset shows it indeed works"
   ]
  },
  {
   "cell_type": "code",
   "execution_count": null,
   "metadata": {},
   "outputs": [],
   "source": [
    "alist = [54,26,93,17,77,31,44,55,20]\n",
    "selectionSort(alist)\n",
    "print(alist)"
   ]
  },
  {
   "cell_type": "markdown",
   "metadata": {},
   "source": [
    "### The time to run the code for each of the 8 different sized datasets is"
   ]
  },
  {
   "cell_type": "code",
   "execution_count": null,
   "metadata": {},
   "outputs": [],
   "source": [
    "### Create funstion to calculate th eaverage length of time the coe takes to run over 10 cycles ###\n",
    "\n",
    "def timer_test_sel(random_input): #create function with the random array as the input\n",
    "    output = []               #create empty list which will have the result of each sysle appended into it\n",
    "    for i in range(1, 11):    # instruct function to run 10 times\n",
    "        random_input        #generates a new array of random numbers for each run  \n",
    "        start = time.time() #time as the code processes this line\n",
    "        selectionSort(random_input) #the sort code function (previously programmed in) is run and uses the random array as the input list to sort \n",
    "        end = time.time() #time as the code processes this line\n",
    "        x = (end - start)*1000 #difference in time between start and end, multiplied by 1000 to convert seconds to miliseconds\n",
    "        output.append(x) #the resulting time is added to the list \n",
    "\n",
    "    y = sum(output)/len(output) #find the average of all 10 runs and store it as ins_y\n",
    "\n",
    "    return y  #return ins_y as the output from the function\n",
    "\n",
    "#code written myself with some inspiration from the suggested code provided in the assignment paper"
   ]
  },
  {
   "cell_type": "code",
   "execution_count": null,
   "metadata": {},
   "outputs": [],
   "source": [
    "sel_1 = timer_test_sel(arr100) #now call the function for each of the array sizes\n",
    "sel_2 = timer_test_sel(arr500)\n",
    "sel_3 = timer_test_sel(arr1000)\n",
    "sel_4 = timer_test_sel(arr2500)\n",
    "sel_5 = timer_test_sel(arr5000)\n",
    "sel_6 = timer_test_sel(arr7500)\n",
    "sel_7 = timer_test_sel(arr10000)\n",
    "sel_8 = timer_test_sel(arr12500)"
   ]
  },
  {
   "cell_type": "code",
   "execution_count": null,
   "metadata": {},
   "outputs": [],
   "source": [
    "sel_result = [round(sel_1, 4), round(sel_2, 4), round(sel_3, 4), round(sel_4, 4), round(sel_5, 4), round(sel_6, 4), round(sel_7, 4), round(sel_8, 4)] #create an array of the results\n",
    "df = pd.DataFrame({'insertion_sort':ins_result, 'selection_sort':sel_result, 'index':index}).set_index('index') #create dataframe to display the results\n",
    "df  #show df"
   ]
  },
  {
   "cell_type": "markdown",
   "metadata": {},
   "source": [
    "# 3) Bubble Sort (Simple and somewhat efficient on small data sets): \n",
    "\n",
    "\n",
    "<img style=\"float: right;\" src=\"https://upload.wikimedia.org/wikipedia/commons/c/c8/Bubble-sort-example-300px.gif\" alt=\"insertion\" width=\"300\"/>\n",
    "\n",
    "\n",
    "This sort cycles through either the full set of data (first run) or a subset of the data that has not been assigned a final location yet (all other remaining runs) each time to see which of the elements meets the criteria for the next position (lowest or highest depending on the requirements of the algorithm). The algorithm compares the first and second elements and decides which order they should be. It then compares the second and third, third and fourth and so on until it has moved through the while list. \n",
    "\n",
    "Once it establishes the bigger elements will therefore migrate, or bubble, towards the end and the smaller to the start with each cycle. \n",
    "\n",
    "\n",
    "A visual demonstration of this is seen on the right. \n",
    "\n",
    "A comparison algorithm.\n",
    "Worst-case performance is\tO(n<sup>2</sup>)but it is often less efficient than other similar algorithms none-the-less.\n",
    "\n",
    "<br/>\n",
    "\n",
    "gif source: https://upload.wikimedia.org/wikipedia/commons/c/c8/Bubble-sort-example-300px.gif\n",
    "\n"
   ]
  },
  {
   "cell_type": "markdown",
   "metadata": {},
   "source": [
    "### A function that can perform a Bubble Sort is below:"
   ]
  },
  {
   "cell_type": "code",
   "execution_count": null,
   "metadata": {},
   "outputs": [],
   "source": [
    "def bubbleSort(alist):\n",
    "    for passnum in range(len(alist)-1,0,-1):\n",
    "        for i in range(passnum):\n",
    "            if alist[i]>alist[i+1]:\n",
    "                temp = alist[i]\n",
    "                alist[i] = alist[i+1]\n",
    "                alist[i+1] = temp\n",
    "                \n",
    "#source: http://interactivepython.org/runestone/static/pythonds/SortSearch/TheBubbleSort.html"
   ]
  },
  {
   "cell_type": "markdown",
   "metadata": {},
   "source": [
    "### Testing this out on a small dataset shows it indeed works"
   ]
  },
  {
   "cell_type": "code",
   "execution_count": null,
   "metadata": {},
   "outputs": [],
   "source": [
    "alist = [54,26,93,17,77,31,44,55,20]\n",
    "bubbleSort(alist)\n",
    "print(alist)"
   ]
  },
  {
   "cell_type": "markdown",
   "metadata": {},
   "source": [
    "### The time to run the code for each of the 8 different sized datasets is"
   ]
  },
  {
   "cell_type": "code",
   "execution_count": null,
   "metadata": {},
   "outputs": [],
   "source": [
    "def timer_test_bub(random_input): #create function with the random array as the input\n",
    "    output = []               #create empty list which will have the result of each sysle appended into it\n",
    "    for i in range(1, 11):    # instruct function to run 10 times\n",
    "        random_input        #generates a new array of random numbers for each run  \n",
    "        start = time.time() #time as the code processes this line\n",
    "        bubbleSort(random_input) #the sort code function (previously programmed in) is run and uses the random array as the input list to sort \n",
    "        end = time.time() #time as the code processes this line\n",
    "        x = (end - start)*1000 #difference in time between start and end, multiplied by 1000 to convert seconds to miliseconds\n",
    "        output.append(x) #the resulting time is added to the list \n",
    "\n",
    "    y = sum(output)/len(output) #find the average of all 10 runs and store it as y\n",
    "\n",
    "    return y  #return y as the output from the function\n",
    "\n",
    "#code written myself with some inspiration from the suggested code provided in the assignment paper"
   ]
  },
  {
   "cell_type": "code",
   "execution_count": null,
   "metadata": {},
   "outputs": [],
   "source": [
    "bub_1 = timer_test_bub(arr100) #now call the function for each of the array sizes\n",
    "bub_2 = timer_test_bub(arr500)\n",
    "bub_3 = timer_test_bub(arr1000)\n",
    "bub_4 = timer_test_bub(arr2500)\n",
    "bub_5 = timer_test_bub(arr5000)\n",
    "bub_6 = timer_test_bub(arr7500)\n",
    "bub_7 = timer_test_bub(arr10000)\n",
    "bub_8 = timer_test_bub(arr12500)"
   ]
  },
  {
   "cell_type": "code",
   "execution_count": null,
   "metadata": {},
   "outputs": [],
   "source": [
    "bub_result = [round(bub_1, 4), round(bub_2, 4), round(bub_3, 4), round(bub_4, 4), round(bub_5, 4), round(bub_6, 4), round(bub_7, 4), round(bub_8, 4)] #create an array of the results\n",
    "df = pd.DataFrame({'insertion_sort':ins_result, 'selection_sort':sel_result, 'bubble_sort':bub_result, 'index':index}).set_index('index') #create dataframe to display the results\n",
    "df  #show df"
   ]
  },
  {
   "cell_type": "markdown",
   "metadata": {},
   "source": [
    "<img style=\"float: right;\" src=\"https://image.freepik.com/free-vector/suit-deck-cards-round-buttons_47243-632.jpg\" alt=\"insertion\" width=\"300\"/>\n",
    "\n",
    "# 4) Bucket Sort (Simple and efficient on small data): \n",
    "\n",
    "This sort first aims to split the bigger more complex list into smaller groups, called buckets, <br/>before using a simple search to then sort out each bucket. \n",
    "\n",
    "A comparison algorithm.\n",
    "Worst-case performance is\tO(n<sup>2</sup>)\n",
    "\n",
    "An example of this is seen when sorting out a deck of playing cards. The person sorting may group based on suit <br/>creating 4 x 13 managable sets to work with to order the cards from Ace to King. \n"
   ]
  },
  {
   "cell_type": "markdown",
   "metadata": {},
   "source": [
    "### A function that can perform a Bucket Sort is below:"
   ]
  },
  {
   "cell_type": "code",
   "execution_count": null,
   "metadata": {},
   "outputs": [],
   "source": [
    "import math\n",
    "\n",
    "def bucketSort(array, bucketSize=100):\n",
    "    if len(array) == 0:\n",
    "        return array\n",
    "\n",
    "  # Determine minimum and maximum values\n",
    "    minValue = array[0]\n",
    "    maxValue = array[0]\n",
    "    for i in range(1, len(array)):\n",
    "        if array[i] < minValue:\n",
    "            minValue = array[i]\n",
    "        elif array[i] > maxValue:\n",
    "            maxValue = array[i]\n",
    "\n",
    "  # Initialize buckets\n",
    "    bucketCount = math.floor((maxValue - minValue) / bucketSize) + 1\n",
    "    buckets = []\n",
    "    for i in range(0, bucketCount):\n",
    "        buckets.append([])\n",
    "\n",
    "  # Distribute input array values into buckets\n",
    "    for i in range(0, len(array)):\n",
    "        buckets[math.floor((array[i] - minValue) / bucketSize)].append(array[i])\n",
    "\n",
    "  # Sort buckets and place back into input array\n",
    "    array = []\n",
    "    for i in range(0, len(buckets)):\n",
    "        insertionSort(buckets[i])\n",
    "        for j in range(0, len(buckets[i])):\n",
    "            array.append(buckets[i][j])\n",
    "\n",
    "    return array\n",
    "\n",
    "#Source: https://www.growingwiththeweb.com/2015/06/bucket-sort.html"
   ]
  },
  {
   "cell_type": "markdown",
   "metadata": {},
   "source": [
    "### Testing this out on a small dataset shows it indeed works"
   ]
  },
  {
   "cell_type": "code",
   "execution_count": null,
   "metadata": {},
   "outputs": [],
   "source": [
    "bucketSort(arr0)"
   ]
  },
  {
   "cell_type": "markdown",
   "metadata": {},
   "source": [
    "### The time to run the code for each of the 8 different sized datasets is"
   ]
  },
  {
   "cell_type": "code",
   "execution_count": null,
   "metadata": {},
   "outputs": [],
   "source": [
    "def timer_test_buc(random_input): #create function with the random array as the input\n",
    "    output = []               #create empty list which will have the result of each sysle appended into it\n",
    "    for i in range(1, 11):    # instruct function to run 10 times\n",
    "        random_input        #generates a new array of random numbers for each run  \n",
    "        start = time.time() #time as the code processes this line\n",
    "        bucketSort(random_input) #the sort code function (previously programmed in) is run and uses the random array as the input list to sort \n",
    "        end = time.time() #time as the code processes this line\n",
    "        x = (end - start)*1000 #difference in time between start and end, multiplied by 1000 to convert seconds to miliseconds\n",
    "        output.append(x) #the resulting time is added to the list \n",
    "\n",
    "    y = sum(output)/len(output) #find the average of all 10 runs and store it as ins_y\n",
    "\n",
    "    return y  #return ins_y as the output from the function\n",
    "\n",
    "#code written myself with some inspiration from the suggested code provided in the assignment paper"
   ]
  },
  {
   "cell_type": "code",
   "execution_count": null,
   "metadata": {},
   "outputs": [],
   "source": [
    "buc_1 = timer_test_buc(arr100) #now call the function for each of the array sizes\n",
    "buc_2 = timer_test_buc(arr500)\n",
    "buc_3 = timer_test_buc(arr1000)\n",
    "buc_4 = timer_test_buc(arr2500)\n",
    "buc_5 = timer_test_buc(arr5000)\n",
    "buc_6 = timer_test_buc(arr7500)\n",
    "buc_7 = timer_test_buc(arr10000)\n",
    "buc_8 = timer_test_buc(arr12000)"
   ]
  },
  {
   "cell_type": "code",
   "execution_count": null,
   "metadata": {},
   "outputs": [],
   "source": [
    "buc_result = [round(buc_1, 4), round(buc_2, 4), round(buc_3, 4), round(buc_4, 4), round(buc_5, 4), round(buc_6, 4), round(buc_7, 4), round(buc_8, 4)] #create an array of the results\n",
    "df = pd.DataFrame({'insertion_sort':ins_result, 'selection_sort':sel_result, 'bubble_sort':bub_result, 'bucket_sort':buc_result, 'index':index}).set_index('index') #create dataframe to display the results\n",
    "df  #show df"
   ]
  },
  {
   "cell_type": "markdown",
   "metadata": {},
   "source": [
    "# 5) Merge Sort (Simple and somewhat efficient on small data sets): \n",
    "\n",
    "\n",
    "<img style=\"float: right;\" src=\"https://upload.wikimedia.org/wikipedia/commons/c/cc/Merge-sort-example-300px.gif\" alt=\"insertion\" width=\"300\"/>\n",
    "\n",
    "\n",
    "This sort splits the data down by halving each list until it breaks them into lists of 1 element and then compares those elements to build the final sorted list up again.\n",
    "\n",
    "\n",
    "A visual demonstration of this is seen on the right. \n",
    "\n",
    "A comparison algorithm.\n",
    "Worst-case performance is\tO(n<sup>2</sup>)but it is often less efficient than other similar algorithms none-the-less.\n",
    "\n",
    "<br/>\n",
    "\n",
    "gif source: https://upload.wikimedia.org/wikipedia/commons/c/cc/Merge-sort-example-300px.gif"
   ]
  },
  {
   "cell_type": "markdown",
   "metadata": {},
   "source": [
    "### A function to perform a Merge Sort is below:"
   ]
  },
  {
   "cell_type": "code",
   "execution_count": null,
   "metadata": {},
   "outputs": [],
   "source": [
    "def mergeSort(alist):\n",
    "#    print(\"Splitting \",alist)\n",
    "    if len(alist)>1:                      #when there is more than 2 elements in a list...\n",
    "        mid = len(alist)//2               #split the list in 2\n",
    "        lefthalf = alist[:mid]\n",
    "        righthalf = alist[mid:]\n",
    "\n",
    "        mergeSort(lefthalf)    #continue to split both halves until the lists are down to 1 element\n",
    "        mergeSort(righthalf)\n",
    "\n",
    "        i=0\n",
    "        j=0\n",
    "        k=0\n",
    "        while i < len(lefthalf) and j < len(righthalf): #bring the elements back together comparing their values to get them in the right order \n",
    "            if lefthalf[i] < righthalf[j]:\n",
    "                alist[k]=lefthalf[i]\n",
    "                i=i+1\n",
    "            else:\n",
    "                alist[k]=righthalf[j]\n",
    "                j=j+1\n",
    "            k=k+1\n",
    "\n",
    "        while i < len(lefthalf):\n",
    "            alist[k]=lefthalf[i]\n",
    "            i=i+1\n",
    "            k=k+1\n",
    "\n",
    "        while j < len(righthalf):\n",
    "            alist[k]=righthalf[j]\n",
    "            j=j+1\n",
    "            k=k+1\n",
    "#    print(\"Merging \",alist)\n",
    "    return alist\n",
    "#Source: https://interactivepython.org/runestone/static/pythonds/SortSearch/TheMergeSort.html?highlight=merge%20sort"
   ]
  },
  {
   "cell_type": "markdown",
   "metadata": {},
   "source": [
    "### Testing this out on a small dataset shows it indeed works"
   ]
  },
  {
   "cell_type": "code",
   "execution_count": null,
   "metadata": {},
   "outputs": [],
   "source": [
    "alist = [54,26,93,17,77,31,44,55,20]\n",
    "mergeSort(alist)"
   ]
  },
  {
   "cell_type": "markdown",
   "metadata": {},
   "source": [
    "### The time to run the code for each of the 8 different sized datasets is"
   ]
  },
  {
   "cell_type": "code",
   "execution_count": null,
   "metadata": {},
   "outputs": [],
   "source": [
    "def timer_test_mer(random_input): #create function with the random array as the input\n",
    "    output = []               #create empty list which will have the result of each sysle appended into it\n",
    "    for i in range(1, 11):    # instruct function to run 10 times\n",
    "        random_input        #generates a new array of random numbers for each run  \n",
    "        start = time.time() #time as the code processes this line\n",
    "        mergeSort(random_input) #the sort code function (previously programmed in) is run and uses the random array as the input list to sort \n",
    "        end = time.time() #time as the code processes this line\n",
    "        x = (end - start)*1000 #difference in time between start and end, multiplied by 1000 to convert seconds to miliseconds\n",
    "        output.append(x) #the resulting time is added to the list \n",
    "\n",
    "    y = sum(output)/len(output) #find the average of all 10 runs and store it as ins_y\n",
    "\n",
    "    return y  #return y as the output from the function\n",
    "\n",
    "#code written myself with some inspiration from the suggested code provided in the assignment paper"
   ]
  },
  {
   "cell_type": "code",
   "execution_count": null,
   "metadata": {},
   "outputs": [],
   "source": [
    "mer_1 = timer_test_mer(arr100) #now call the function for each of the array sizes\n",
    "mer_2 = timer_test_mer(arr500)\n",
    "mer_3 = timer_test_mer(arr1000)\n",
    "mer_4 = timer_test_mer(arr2500)\n",
    "mer_5 = timer_test_mer(arr5000)\n",
    "mer_6 = timer_test_mer(arr7500)\n",
    "mer_7 = timer_test_mer(arr10000)\n",
    "mer_8 = timer_test_mer(arr12500)"
   ]
  },
  {
   "cell_type": "code",
   "execution_count": null,
   "metadata": {},
   "outputs": [],
   "source": [
    "mer_result = [round(mer_1, 4), round(mer_2, 4), round(mer_3, 4), round(mer_4, 4), round(mer_5, 4), round(mer_6, 4), round(mer_7, 4), round(mer_8, 4)] #create an array of the results\n",
    "df = pd.DataFrame({'insertion_sort':ins_result, 'selection_sort':sel_result, 'bubble_sort':bub_result, 'bucket_sort':buc_result, 'merge_sort':mer_result, 'index':index}).set_index('index') #create dataframe to display the results\n",
    "df  #show df"
   ]
  },
  {
   "cell_type": "markdown",
   "metadata": {},
   "source": [
    "# 5) Quick Sort (Simple and somewhat efficient on small data sets): \n",
    "\n",
    "\n",
    "<img style=\"float: right;\" src=\"https://upload.wikimedia.org/wikipedia/commons/6/6a/Sorting_quicksort_anim.gif\" alt=\"insertion\" width=\"300\"/>\n",
    "\n",
    "\n",
    "This sort cycles through either the full set of data (first run) or a subset of the data that has not been assigned a final location yet (all other remaining runs) each time to see which of the elements meets the criteria for the next position (lowest or highest depending on the requirements of the algorithm). The algorithm compares the first and second elements and decides which order they should be. It then compares the second and third, third and fourth and so on until it has moved through the while list. \n",
    "\n",
    "Once it establishes the bigger elements will therefore migrate, or bubble, towards the end and the smaller to the start with each cycle. \n",
    "\n",
    "\n",
    "A visual demonstration of this is seen on the right. \n",
    "\n",
    "A comparison algorithm.\n",
    "Worst-case performance is\tO(n<sup>2</sup>)but it is often less efficient than other similar algorithms none-the-less.\n",
    "\n",
    "<br/>\n",
    "\n",
    "gif source: https://upload.wikimedia.org/wikipedia/commons/6/6a/Sorting_quicksort_anim.gif"
   ]
  },
  {
   "cell_type": "markdown",
   "metadata": {},
   "source": [
    "### A function to perform a Merge Sort is below:"
   ]
  },
  {
   "cell_type": "code",
   "execution_count": null,
   "metadata": {},
   "outputs": [],
   "source": [
    "# This function takes last element as pivot, places \n",
    "# the pivot element at its correct position in sorted \n",
    "# array, and places all smaller (smaller than pivot) \n",
    "# to left of pivot and all greater elements to right \n",
    "# of pivot \n",
    "def partition(arr,low,high): \n",
    "    i = ( low-1 )         # index of smaller element \n",
    "    pivot = arr[high]     # pivot \n",
    "  \n",
    "    for j in range(low , high): \n",
    "  \n",
    "        # If current element is smaller than or \n",
    "        # equal to pivot \n",
    "        if   arr[j] <= pivot: \n",
    "          \n",
    "            # increment index of smaller element \n",
    "            i = i+1 \n",
    "            arr[i],arr[j] = arr[j],arr[i] \n",
    "  \n",
    "    arr[i+1],arr[high] = arr[high],arr[i+1] \n",
    "    return ( i+1 ) \n",
    "  \n",
    "# The main function that implements QuickSort \n",
    "# arr[] --> Array to be sorted, \n",
    "# low  --> Starting index, \n",
    "# high  --> Ending index \n",
    "  \n",
    "# Function to do Quick sort \n",
    "def quickSort(arr,low,high): \n",
    "    if low < high: \n",
    "  \n",
    "        # pi is partitioning index, arr[p] is now \n",
    "        # at right place \n",
    "        pi = partition(arr,low,high) \n",
    "  \n",
    "        # Separately sort elements before \n",
    "        # partition and after partition \n",
    "        quickSort(arr, low, pi-1) \n",
    "        quickSort(arr, pi+1, high) \n",
    "  \n",
    "# Driver code to test above \n",
    "arr = [10, 7, 8, 9, 1, 5] \n",
    "n = len(arr) \n",
    "quickSort(arr,0,n-1) \n",
    "print (\"Sorted array is:\") \n",
    "for i in range(n): \n",
    "    print (\"%d\" %arr[i]), "
   ]
  },
  {
   "cell_type": "markdown",
   "metadata": {},
   "source": [
    "### Testing this out on a small dataset shows it indeed works"
   ]
  },
  {
   "cell_type": "code",
   "execution_count": null,
   "metadata": {},
   "outputs": [],
   "source": [
    "blist = [54,26,93,17,77,31,44,55,20]\n",
    "quickSort(blist)\n",
    "print(blist)"
   ]
  },
  {
   "cell_type": "code",
   "execution_count": null,
   "metadata": {},
   "outputs": [],
   "source": [
    "def timer_test_qui(random_input): #create function with the random array as the input\n",
    "    output = []               #create empty list which will have the result of each sysle appended into it\n",
    "    for i in range(1, 11):    # instruct function to run 10 times\n",
    "        random_input        #generates a new array of random numbers for each run  \n",
    "        start = time.time() #time as the code processes this line\n",
    "        quickSort(random_input,0 ,n-1) #the sort code function (previously programmed in) is run and uses the random array as the input list to sort \n",
    "        end = time.time() #time as the code processes this line\n",
    "        x = (end - start)*1000 #difference in time between start and end, multiplied by 1000 to convert seconds to miliseconds\n",
    "        output.append(x) #the resulting time is added to the list \n",
    "\n",
    "    y = sum(output)/len(output) #find the average of all 10 runs and store it as ins_y\n",
    "\n",
    "    return y  #return y as the output from the function\n",
    "\n",
    "#code written myself with some inspiration from the suggested code provided in the assignment paper"
   ]
  },
  {
   "cell_type": "code",
   "execution_count": null,
   "metadata": {},
   "outputs": [],
   "source": [
    "qui_1 = timer_test_qui(arr100) #now call the function for each of the array sizes\n",
    "qui_2 = timer_test_qui(arr500)\n",
    "qui_3 = timer_test_qui(arr1000)\n",
    "qui_4 = timer_test_qui(arr2500)\n",
    "qui_5 = timer_test_qui(arr5000)\n",
    "qui_6 = timer_test_qui(arr7500)\n",
    "qui_7 = timer_test_qui(arr10000)\n",
    "qui_8 = timer_test_qui(arr12500)"
   ]
  },
  {
   "cell_type": "code",
   "execution_count": null,
   "metadata": {},
   "outputs": [],
   "source": [
    "qui_result = [round(qui_1, 4), round(qui_2, 4), round(qui_3, 4), round(qui_4, 4), round(qui_5, 4), round(qui_6, 4), round(qui_7, 4), round(qui_8, 4)] #create an array of the results\n",
    "df = pd.DataFrame({'insertion_sort':ins_result, 'selection_sort':sel_result, 'bubble_sort':bub_result, 'bucket_sort':buc_result, 'merge_sort':mer_result, 'quick_sort':qui_result, 'index':index}).set_index('index') #create dataframe to display the results\n",
    "df  #show df"
   ]
  },
  {
   "cell_type": "markdown",
   "metadata": {},
   "source": [
    "### The table above shows the average time from 10 applicationso of each sorting algorithm on varying array sizes.\n",
    "\n",
    "\n",
    "### The plot below then shows the data points visually."
   ]
  },
  {
   "cell_type": "code",
   "execution_count": null,
   "metadata": {},
   "outputs": [],
   "source": [
    "plt.figure(figsize=(15,15))\n",
    "plt.plot(index, ins_result, marker='o', linewidth=2, markersize=12, label='Insertion Sort')\n",
    "plt.plot(index, sel_result, marker='o', linewidth=2, markersize=12, label='Selection Sort')\n",
    "plt.plot(index, buc_result, marker='o', linewidth=2, markersize=12, label='Bucket Sort')\n",
    "plt.plot(index, bub_result, marker='o', linewidth=2, markersize=12, label='Bubble Sort')\n",
    "plt.plot(index, mer_result, marker='o', linewidth=2, markersize=15, label='Merge Sort')\n",
    "plt.plot(index, qui_result, marker='o', linewidth=2, markersize=12, label='Quick Sort')\n",
    "plt.ylabel('Time in Miliseconds')\n",
    "plt.xlabel('Arrays of varying size used as input')\n",
    "plt.xticks(np.arange(0, 8, step=1), rotation=45)\n",
    "plt.title('Time to run sort for each array')\n",
    "plt.legend()\n",
    "plt.show()"
   ]
  },
  {
   "cell_type": "markdown",
   "metadata": {},
   "source": [
    "# Back Up / Drafts"
   ]
  },
  {
   "cell_type": "code",
   "execution_count": null,
   "metadata": {},
   "outputs": [],
   "source": [
    "start = time.time()\n",
    "(2+3+4+5+6+7+8+9+0+12)**53456\n",
    "end = time.time()\n",
    "print(start, end, end-start)\n"
   ]
  },
  {
   "cell_type": "code",
   "execution_count": null,
   "metadata": {},
   "outputs": [],
   "source": [
    "### Example for arr0 as an input ####\n",
    "\n",
    "range(1, len(5)) # where i = 1, 2, 3, 4  \n",
    "    key = arr[1] = 11    \n",
    "    j = 1-1 = 0\n",
    "    while 0 >= 0 and key < arr[0]: # key(11) is less than than arr[0] (which is 12) so while loop runs\n",
    "        arr[0 + 1] = arr[1]     #\n",
    "        0 - 1 = -1 # \"j\" now reduces to 3 to run again the next time        \n",
    "    arr[-1+1] = key #  0    \n",
    "        "
   ]
  },
  {
   "cell_type": "code",
   "execution_count": null,
   "metadata": {},
   "outputs": [],
   "source": [
    "def test(test): \n",
    "    start = datetime.datetime.now()\n",
    "    test\n",
    "    end = datetime.datetime.now()\n",
    "    x = end - start\n",
    "    print(start, end, x, x.microseconds)\n",
    "    \n",
    "if __name__ == '__main__':\n",
    "    import timeit\n",
    "    print(timeit.timeit(\"test()\", setup=\"from __main__ import test\"))"
   ]
  },
  {
   "cell_type": "code",
   "execution_count": null,
   "metadata": {},
   "outputs": [],
   "source": [
    "y = insertionSort(arr7)\n",
    "\n",
    "timing(y)"
   ]
  },
  {
   "cell_type": "code",
   "execution_count": null,
   "metadata": {},
   "outputs": [],
   "source": [
    "import timeit\n",
    "t = timeit.Timer('insertionSort(arr7)')\n",
    "t.timeit()"
   ]
  },
  {
   "cell_type": "code",
   "execution_count": null,
   "metadata": {},
   "outputs": [],
   "source": [
    "\n",
    "start = datetime.datetime.now()\n",
    "insertionSort(arr7)\n",
    "end = datetime.datetime.now()\n",
    "x = end - start\n",
    "\n",
    "print(x*1000)\n"
   ]
  },
  {
   "cell_type": "code",
   "execution_count": null,
   "metadata": {
    "scrolled": true
   },
   "outputs": [],
   "source": [
    "timeit.Timer('5 + 4 + 6').timeit()"
   ]
  },
  {
   "cell_type": "code",
   "execution_count": null,
   "metadata": {
    "scrolled": true
   },
   "outputs": [],
   "source": [
    "timeit.timeit(stmt='insertionSort(np.random.randint(10000000, size=10000))', number=1)"
   ]
  },
  {
   "cell_type": "code",
   "execution_count": null,
   "metadata": {},
   "outputs": [],
   "source": [
    "def time2(test):\n",
    "    start_time = timeit.default_timer()\n",
    "    test\n",
    "    end_time = timeit.default_timer()\n",
    "    x = (end_time - start_time)\n",
    "    print(start_time, end_time, x)"
   ]
  },
  {
   "cell_type": "code",
   "execution_count": null,
   "metadata": {},
   "outputs": [],
   "source": [
    "time2(insertionSort(arr8))"
   ]
  },
  {
   "cell_type": "code",
   "execution_count": null,
   "metadata": {},
   "outputs": [],
   "source": [
    "\n",
    "start_time = timeit.default_timer()\n",
    "insertionSort(arr8)\n",
    "end_time = timeit.default_timer()\n",
    "x = round(((end_time - start_time)*1000), 4)\n",
    "print(x)"
   ]
  },
  {
   "cell_type": "code",
   "execution_count": null,
   "metadata": {},
   "outputs": [],
   "source": [
    "print(timeit.repeat(\"x = 'y' * 3\", number=100000000, repeat=3))"
   ]
  },
  {
   "cell_type": "markdown",
   "metadata": {},
   "source": [
    "###### X1=datetime.datetime.now().strftime('%M:%S.%f')[:-1]\n",
    "X1"
   ]
  },
  {
   "cell_type": "code",
   "execution_count": null,
   "metadata": {},
   "outputs": [],
   "source": [
    "X2=datetime.datetime.now().strftime('%M:%S.%f')[:-1]\n",
    "X2"
   ]
  },
  {
   "cell_type": "code",
   "execution_count": null,
   "metadata": {},
   "outputs": [],
   "source": [
    "X2-X2"
   ]
  },
  {
   "cell_type": "code",
   "execution_count": null,
   "metadata": {
    "scrolled": true
   },
   "outputs": [],
   "source": [
    "timing(insertionSort(arr7))"
   ]
  },
  {
   "cell_type": "code",
   "execution_count": null,
   "metadata": {},
   "outputs": [],
   "source": [
    "array1 = [timing(insertionSort(arr1)), timing(insertionSort(arr2)), timing(insertionSort(arr3)), timing(insertionSort(arr4)), timing(insertionSort(arr5)), timing(insertionSort(arr6)), timing(insertionSort(arr7))]\n",
    "array1"
   ]
  },
  {
   "cell_type": "code",
   "execution_count": null,
   "metadata": {},
   "outputs": [],
   "source": [
    "def insertionSort(arr): \n",
    "    for i in range(1, len(arr)): # For each entry in the list....  \n",
    "    key = arr[i] #create a variable called \"key\" which will be the data set at location \"i\"\n",
    "                     #as per line 5, \"i\" will be each of the locations in the data set\n",
    "        j = i-1      #j works to move the elements in the dataset that are greater than \"i\" one position infront of i\n",
    "                     # i.e. recognose it is greater than \"i\"  \n",
    "        while j >= 0 and key < arr[j] : #while loop to ensure sort terminates when the data set has been sorted\n",
    "            arr[j + 1] = arr[j] #increasing \"j\" by 1 each time moves to the next position within the array \n",
    "                j -= 1          # decreasing \"j\" again  \n",
    "        arr[j + 1] = key \n"
   ]
  }
 ],
 "metadata": {
  "kernelspec": {
   "display_name": "Python 3",
   "language": "python",
   "name": "python3"
  },
  "language_info": {
   "codemirror_mode": {
    "name": "ipython",
    "version": 3
   },
   "file_extension": ".py",
   "mimetype": "text/x-python",
   "name": "python",
   "nbconvert_exporter": "python",
   "pygments_lexer": "ipython3",
   "version": "3.7.0"
  }
 },
 "nbformat": 4,
 "nbformat_minor": 2
}
