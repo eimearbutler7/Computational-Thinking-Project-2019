{
 "cells": [
  {
   "cell_type": "markdown",
   "metadata": {},
   "source": [
    "# Sorting Algorithms Project, Compuational Thinking Module (5 Credits)\n",
    "\n",
    "## Eimear Butler, April 2019"
   ]
  },
  {
   "cell_type": "markdown",
   "metadata": {},
   "source": [
    "--------\n",
    "\n",
    "This jupyter notebook is connected to the following repository: https://github.com/eimearbutler7/Computational-Thinking-Project-2019\n",
    "\n",
    "The primary document is this Jupyter Notebook.\n",
    "\n",
    "To run this document you must have installed software to run python code (https://www.python.org/), for example the Anaconda package (https://www.anaconda.com/).\n",
    "\n",
    "By running each cell in succession, it will generate a dataframe of randomly generated numbers that are somewhat reflective of real life real estate sales data.\n",
    "\n",
    "All references and sources used to support the code creation are documented within the ipynb file. No other datasets are required.\n",
    "\n",
    "All supplimentary documentation is also stored in the repository.\n",
    "\n",
    "--------"
   ]
  },
  {
   "cell_type": "markdown",
   "metadata": {},
   "source": [
    "For this project, I will write a Python application which will be used to benchmark five different sorting algorithms. \n",
    "\n",
    "The following 5 algorithms will be discussed:\n",
    "\n",
    "1. A simple comparison-based sort: Insertion Sort\n",
    "2. A simple comparison-based sort: Selection Sort\n",
    "3. A simple comparison-based sort: Bubble Sort\n",
    "4. A non-comparison sort: Bucket Sort\n",
    "5. An efficient comparison-based sort:  Merge Sort\n",
    "\n",
    "\n",
    "\n",
    "## The structure (and scoring) for this report will be as follows: \n",
    "\n",
    "**Introduction (10 marks)**\n",
    "\n",
    "- **Insertion Sort**\n",
    "- **Selection Sort**\n",
    "- **Bubble Sort**\n",
    "- **Bucket Sort**\n",
    "- **Merge Sort**\n",
    "\n",
    "    Each of the 5 sections are marked as follows: \n",
    "    - Python Application (3 marks) \n",
    "    - Sorting Algorithms (5 marks)\n",
    "    - Implementation & Benchmarking (2 marks)\n",
    "    \n",
    "    \n",
    "\n",
    "**Conclusion**\n",
    "\n",
    "NOTE: the results obtained during development are included in the last section for reference. It is acknowledged new results will be obtained each time this notebook will run. It should also be noted that this notebook will take some time to run fully as Selection Sort and Bubble Sort take some procesing time to complete. \n"
   ]
  },
  {
   "cell_type": "markdown",
   "metadata": {},
   "source": [
    "------------------------------------"
   ]
  },
  {
   "cell_type": "markdown",
   "metadata": {},
   "source": [
    "# Introduction\n",
    "\n",
    "\n",
    "\n",
    "### What is a sorting algorithm? \n",
    "Sorting algorithms are, as they sound, processes to analyse lists and sort them into a pre-defined order.\n",
    "\n",
    "\n",
    "### When are they used? \n",
    "Sorting algorithms are used throughout computer science. From answering relatively simple questions like the min/max/mean of a data set to determining layers of graphics in computer games. \n",
    "\n",
    "\n",
    "### What are useful characteristics to describe sorting algorithms? \n",
    "**Comparison-based sort:** an algorithm that relies on comparing elements within the data set and deciding a number of times which element is the larger and move that element to one end of the list. \n",
    "\n",
    "\n",
    "**In place sorting:** is defined as: oes not need an extra space and produces an output in the same memory that contains the data by transforming the input ‘in-place’. However, a small constant extra space used for variables is allowed. <br/> Source: https://www.geeksforgeeks.org/in-place-algorithm/\n",
    "\n",
    "\n",
    "**Stable sorting:** A stable sort will output the same results every time. For example, where 2 elements have the same value, other factors will be consistently considered to produce the same results. \n",
    "\n",
    "\n",
    "**Worst-case time efficiency:** In order to understand how efficient the algorithm will be in terms of time efficiency, the algorithms are assessed to find out what order of magnitude grouping each fall into (AKA Big O Notation). Each group is determined on the reaction of the algorithm to increasing number of elements in the list. See also the first slide presented below.  \n",
    "\n",
    "\n",
    "**MODULE NOTES** <br/>\n",
    "Three of the most useful slides presented during the Computational Thinking module to date are reproduced below as a reference for this assignment. \n",
    "\n",
    "The first slides present the overview of the expected efficiency of algorithm: \n",
    "\n",
    "<img style=\"float: right;\" src=\"https://github.com/eimearbutler7/Computational-Thinking-Project-2019/blob/master/SmartSelect_20190405-080945_Chrome.jpg?raw=true\" width=\"500\"/>\n",
    "\n",
    "\n",
    "<img style=\"float: left;\" src=\"https://github.com/eimearbutler7/Computational-Thinking-Project-2019/blob/master/graph.png?raw=true\" width=\"500\"/>"
   ]
  },
  {
   "cell_type": "markdown",
   "metadata": {},
   "source": [
    "The next slide presents criteria that will suit eash sorting slgorithm to use them most effective: \n",
    "\n",
    "<img src=\"https://github.com/eimearbutler7/Computational-Thinking-Project-2019/blob/master/SmartSelect_20190404-075447_Chrome.jpg?raw=true\" width=\"500\"/>"
   ]
  },
  {
   "cell_type": "markdown",
   "metadata": {},
   "source": [
    "---------------"
   ]
  },
  {
   "cell_type": "markdown",
   "metadata": {},
   "source": [
    "## Preparation\n",
    "\n",
    "In order to now be able to use ipython to analyse the sorting algorithms, a number of supporting modules to have the functionality needed to complete this task must be imported..."
   ]
  },
  {
   "cell_type": "code",
   "execution_count": 72,
   "metadata": {},
   "outputs": [],
   "source": [
    "import numpy as np\n",
    "import pandas as pd\n",
    "import matplotlib.pyplot as plt\n",
    "import datetime\n",
    "import timeit\n",
    "import time\n",
    "from datetime import datetime\n",
    "from datetime import timedelta"
   ]
  },
  {
   "cell_type": "markdown",
   "metadata": {},
   "source": [
    "Eight different length arrays of random integers are also created to test each sorting algorithm below..."
   ]
  },
  {
   "cell_type": "code",
   "execution_count": 73,
   "metadata": {},
   "outputs": [],
   "source": [
    "arr100 = np.random.randint(10000000, size=100) \n",
    "arr500 = np.random.randint(10000000, size=500)\n",
    "arr1000 = np.random.randint(10000000, size=1000)\n",
    "arr2500 = np.random.randint(10000000, size=2500)\n",
    "arr5000 = np.random.randint(10000000, size=5000)\n",
    "arr7500 = np.random.randint(10000000, size=7500)\n",
    "arr10000 = np.random.randint(10000000, size=10000)\n",
    "arr12500 = np.random.randint(10000000, size=12500)\n",
    "#source: https://docs.scipy.org/doc/numpy-1.15.1/reference/generated/numpy.random.randint.html"
   ]
  },
  {
   "cell_type": "markdown",
   "metadata": {},
   "source": [
    "--------------------"
   ]
  },
  {
   "cell_type": "markdown",
   "metadata": {},
   "source": [
    "# 1) Insertion Sort: \n",
    "\n",
    "<img style=\"float: right;\" src=\"https://upload.wikimedia.org/wikipedia/commons/4/42/Insertion_sort.gif\" alt=\"insertion\" width=\"200\"/>\n",
    "\n",
    "This sort takes each element, one by one and sorts it relative to all previously sorted data. By moving systematically through the data set, it eventually moves the elements into order. \n",
    "\n",
    "A visual demonstration of this is seen to the right. \n",
    "\n",
    "\n",
    "- Worst Time Complexity: O(n<sup>2</sup>)\n",
    "- Average Time Complexity: O(n<sup>2</sup>)\n",
    "- Complexity to code: relatively simple \n",
    "- Comparison sort?: Yes \n",
    "- In place? Yes\n",
    "- Stable? Yes\n",
    "- When to use: suitable for use with small data sets but loses speed and therefore effectiveness with larger data sets. \n",
    "\n",
    "\n",
    "<br/>\n",
    "\n",
    "gif source: https://upload.wikimedia.org/wikipedia/commons/4/42/Insertion_sort.gif <br/>\n",
    "Supplimentary information source: www.geeksforgeeks.org/insertion-sort/amp/"
   ]
  },
  {
   "cell_type": "markdown",
   "metadata": {},
   "source": [
    "### A function that can do an Insertion Sort is below:"
   ]
  },
  {
   "cell_type": "code",
   "execution_count": 74,
   "metadata": {},
   "outputs": [],
   "source": [
    "def insertionSort(arr):          #define a function called incertionSort which accepts an input called \"arr\"\n",
    "    for i in range(1, len(arr)): # For each entry in the list....  \n",
    "        key = arr[i] #create a variable called \"key\" which will be the data set at location \"i\"\n",
    "                     #as per line 5, \"i\" will be each of the locations in the data set\n",
    "        j = i-1      #j works to move the elements in the dataset that are greater than \"i\" one position infront of i\n",
    "                     # i.e. recognose it is greater than \"i\"  \n",
    "        while j >= 0 and key < arr[j] : #while loop determines if next number is bigger than the key and ensures that the sort terminates when the data set has been sorted\n",
    "            arr[j + 1] = arr[j] #moving to 1 position above \"j\" each time moves to the next position within the array \n",
    "            j -= 1          # decreasing \"j\" by 1 each time   \n",
    "        arr[j + 1] = key    #dataset location of j increasing by 1 moves key to next location in the list\n",
    "        \n",
    "    \n",
    "#Source: https://www.geeksforgeeks.org/insertion-sort/"
   ]
  },
  {
   "cell_type": "markdown",
   "metadata": {},
   "source": [
    "### Testing this out on a small dataset shows it indeed works"
   ]
  },
  {
   "cell_type": "code",
   "execution_count": 75,
   "metadata": {},
   "outputs": [
    {
     "name": "stdout",
     "output_type": "stream",
     "text": [
      " 5\n",
      " 6\n",
      " 11\n",
      " 12\n",
      " 13\n"
     ]
    }
   ],
   "source": [
    "arr_ins = [12, 11, 13, 5, 6] \n",
    "\n",
    "insertionSort(arr_ins)\n",
    "for i in range(len(arr_ins)): \n",
    "    print (\"% d\" % arr_ins[i])\n"
   ]
  },
  {
   "cell_type": "markdown",
   "metadata": {},
   "source": [
    "### TimeIt\n",
    "It should be noted that I tried to run the time check using the timeit function which was interesting to see but this did not give me the flexibilty to test multiple dataset sizes in a controled way where I could display the results I needed. Example below. "
   ]
  },
  {
   "cell_type": "code",
   "execution_count": 76,
   "metadata": {},
   "outputs": [
    {
     "name": "stdout",
     "output_type": "stream",
     "text": [
      "Average run time for InsertionSort using timeit function, repeating the function 10 times, is 0.4672 miliseconds\n"
     ]
    }
   ],
   "source": [
    "# this code will only be executed once \n",
    "mysetup = \"from math import sqrt\"\n",
    "  \n",
    "# this code will be measured \n",
    "mycode = '''def insertionSort(arr1):          \n",
    "                for i in range(1, len(arr)): # For each entry in the list....  \n",
    "                    key = arr[i] #create a variable called \"key\" which will be the data set at location \"i\"\n",
    "                     #as per line 5, \"i\" will be each of the locations in the data set\n",
    "                    j = i-1      #j works to move the elements in the dataset that are greater than \"i\" one position infront of i\n",
    "                     # i.e. recognose it is greater than \"i\"  \n",
    "                while j >= 0 and key < arr[j] : #while loop to ensure sort terminates when the data set has been sorted\n",
    "                    arr[j + 1] = arr[j] #increasing \"j\" by 1 each time moves to the next position within the array \n",
    "                    j -= 1          # decreasing \"j\" by 1 again  \n",
    "                    arr[j + 1] = key    #dataset location of j increasing by 1\n",
    "            '''\n",
    " \n",
    "#print(timeit.timeit(setup = mysetup, stmt = mycode, number = 10000))\n",
    "\n",
    "insSort = np.average(timeit.repeat(setup = mysetup, stmt = mycode, repeat=10, number = 10000))\n",
    "ins_avg = round(insSort*1000, 4)\n",
    "print(\"Average run time for InsertionSort using timeit function, repeating the function 10 times, is\", ins_avg, 'miliseconds')\n",
    "\n",
    "# Source: https://www.geeksforgeeks.org/timeit-python-examples/   "
   ]
  },
  {
   "cell_type": "markdown",
   "metadata": {},
   "source": [
    "### The time to run the code for each of the 8 different sized datasets is run here instead..."
   ]
  },
  {
   "cell_type": "markdown",
   "metadata": {},
   "source": [
    "Note: according to ipython documentation, time.time returns \"the time in seconds since the epoch as a floating point number.\"\n",
    "\n",
    "Therefore, the result \"x\" below will be in seconds and we must multiply it by 1000 to then convert it into miliseconds as required by the assignment."
   ]
  },
  {
   "cell_type": "code",
   "execution_count": 77,
   "metadata": {},
   "outputs": [],
   "source": [
    "### Create funstion to calculate th eaverage length of time the coe takes to run over 10 cycles ###\n",
    "\n",
    "def timer_test_ins(random_input): #create function with the random array as the input\n",
    "    output = []               #create empty list which will have the result of each sysle appended into it\n",
    "    for i in range(1, 11):    # instruct function to run 10 times\n",
    "        random_input        #generates a new array of random numbers for each run  \n",
    "        start = time.time() #time as the code processes this line\n",
    "        insertionSort(random_input) #the sort code function (previously programmed in) is run and uses the random array as the input list to sort \n",
    "        end = time.time() #time as the code processes this line\n",
    "        x = (end - start)*1000 #difference in time between start and end, multiplied by 1000 to convert seconds to miliseconds\n",
    "        output.append(x) #the resulting time is added to the list \n",
    "\n",
    "    y = sum(output)/len(output) #find the average of all 10 runs and store it as y\n",
    "\n",
    "    return y  #return y as the output from the function\n",
    "\n",
    "#code written myself with some inspiration from the suggested code provided in the assignment paper"
   ]
  },
  {
   "cell_type": "code",
   "execution_count": 78,
   "metadata": {},
   "outputs": [],
   "source": [
    "ins_1 = timer_test_ins(arr100) #now call the function for each of the array sizes\n",
    "ins_2 = timer_test_ins(arr500)\n",
    "ins_3 = timer_test_ins(arr1000)\n",
    "ins_4 = timer_test_ins(arr2500)\n",
    "ins_5 = timer_test_ins(arr5000)\n",
    "ins_6 = timer_test_ins(arr7500)\n",
    "ins_7 = timer_test_ins(arr10000)\n",
    "ins_8 = timer_test_ins(arr12500)"
   ]
  },
  {
   "cell_type": "code",
   "execution_count": 79,
   "metadata": {},
   "outputs": [
    {
     "data": {
      "text/html": [
       "<div>\n",
       "<style scoped>\n",
       "    .dataframe tbody tr th:only-of-type {\n",
       "        vertical-align: middle;\n",
       "    }\n",
       "\n",
       "    .dataframe tbody tr th {\n",
       "        vertical-align: top;\n",
       "    }\n",
       "\n",
       "    .dataframe thead th {\n",
       "        text-align: right;\n",
       "    }\n",
       "</style>\n",
       "<table border=\"1\" class=\"dataframe\">\n",
       "  <thead>\n",
       "    <tr style=\"text-align: right;\">\n",
       "      <th></th>\n",
       "      <th>insertion_sort</th>\n",
       "    </tr>\n",
       "    <tr>\n",
       "      <th>index</th>\n",
       "      <th></th>\n",
       "    </tr>\n",
       "  </thead>\n",
       "  <tbody>\n",
       "    <tr>\n",
       "      <th>arr100</th>\n",
       "      <td>0.0997</td>\n",
       "    </tr>\n",
       "    <tr>\n",
       "      <th>arr500</th>\n",
       "      <td>1.8948</td>\n",
       "    </tr>\n",
       "    <tr>\n",
       "      <th>arr1000</th>\n",
       "      <td>7.3803</td>\n",
       "    </tr>\n",
       "    <tr>\n",
       "      <th>arr2500</th>\n",
       "      <td>47.9720</td>\n",
       "    </tr>\n",
       "    <tr>\n",
       "      <th>arr5000</th>\n",
       "      <td>183.1115</td>\n",
       "    </tr>\n",
       "    <tr>\n",
       "      <th>arr7500</th>\n",
       "      <td>415.9951</td>\n",
       "    </tr>\n",
       "    <tr>\n",
       "      <th>arr10000</th>\n",
       "      <td>784.3004</td>\n",
       "    </tr>\n",
       "    <tr>\n",
       "      <th>arr12000</th>\n",
       "      <td>1150.1277</td>\n",
       "    </tr>\n",
       "  </tbody>\n",
       "</table>\n",
       "</div>"
      ],
      "text/plain": [
       "          insertion_sort\n",
       "index                   \n",
       "arr100            0.0997\n",
       "arr500            1.8948\n",
       "arr1000           7.3803\n",
       "arr2500          47.9720\n",
       "arr5000         183.1115\n",
       "arr7500         415.9951\n",
       "arr10000        784.3004\n",
       "arr12000       1150.1277"
      ]
     },
     "execution_count": 79,
     "metadata": {},
     "output_type": "execute_result"
    }
   ],
   "source": [
    "ins_result = [round(ins_1, 4), round(ins_2, 4), round(ins_3, 4), round(ins_4, 4), round(ins_5, 4), round(ins_6, 4), round(ins_7, 4), round(ins_8, 4)] #create an array of the results\n",
    "index =['arr100', 'arr500', 'arr1000', 'arr2500', 'arr5000', 'arr7500', 'arr10000', 'arr12000']#create an index group to identify which result was from which input\n",
    "df = pd.DataFrame({'insertion_sort':ins_result, 'index':index}).set_index('index') #create dataframe to display the results\n",
    "df  #show df"
   ]
  },
  {
   "cell_type": "code",
   "execution_count": 80,
   "metadata": {},
   "outputs": [
    {
     "data": {
      "image/png": "[encoded data removed]",
      "text/plain": [
       "<Figure size 720x360 with 1 Axes>"
      ]
     },
     "metadata": {
      "needs_background": "light"
     },
     "output_type": "display_data"
    }
   ],
   "source": [
    "plt.figure(figsize=(10,5)) #plot results on a graph -  code written myself\n",
    "plt.plot(index, ins_result, marker='o', linewidth=2, markersize=12, label='Insertion Sort')\n",
    "plt.ylabel('Time in Miliseconds')\n",
    "plt.xlabel('Arrays of varying size used as input')\n",
    "plt.xticks(np.arange(0, 8, step=1), rotation=45)\n",
    "plt.title('Time to run sort for each array')\n",
    "plt.legend()\n",
    "plt.show()"
   ]
  },
  {
   "cell_type": "markdown",
   "metadata": {},
   "source": [
    "### Benchmarking\n",
    "\n",
    "As seen in the graph, the time taken to implement the algorithm increases exponentially as the number of elements in the data set increases. This is as expected by the O(n<sup>2</sup>) average/worst complexity. It is realtively easy to code but in reality, will have limited use. "
   ]
  },
  {
   "cell_type": "markdown",
   "metadata": {},
   "source": [
    "______________________________"
   ]
  },
  {
   "cell_type": "markdown",
   "metadata": {},
   "source": [
    "# 2) Selection Sort (Simple and efficient on small data): \n",
    "\n",
    "<img style=\"float: right;\" src=\"https://upload.wikimedia.org/wikipedia/commons/9/94/Selection-Sort-Animation.gif\" alt=\"insertion\" width=\"75\"/>\n",
    "\n",
    "This sort runs through either the full set of data (first run) or a subset of the data that has not been assigned a final location yet (all other remaining runs) each time to see which of the elements meets the criteria for the next position (lowest or highest depending on the requirements of the algorithm). Once it establishes the element that best fits, it allocates the element into that position and then moves onto the next run to find the next element that will best fit the next position. This again requires the algorith to look at all remaining elements.that do not yet have a location. \n",
    "\n",
    "\n",
    "A visual demonstration of this is seen on the right. \n",
    "\n",
    "- Worst Time Complexity: O(n<sup>2</sup>)\n",
    "- Average Time Complexity: O(n<sup>2</sup>)\n",
    "- Complexity to code: relatively simple \n",
    "- Comparison sort? Yes \n",
    "- In place? Yes\n",
    "- Stable: Yes\n",
    "- When to use: predictable number of swaps and therefore useful when memory write is a concern however, not suitable for large data sets and generally Less effective than insertion sort\n",
    "\n",
    "\n",
    "<br/>\n",
    "\n",
    "gif source: https://upload.wikimedia.org/wikipedia/commons/9/94/Selection-Sort-Animation.gif <br/>\n",
    "Supplimentary information source: www.geeksforgeeks.org/selection-sort/amp/\n"
   ]
  },
  {
   "cell_type": "markdown",
   "metadata": {},
   "source": [
    "### A function that can perform a Selection Sort is below:"
   ]
  },
  {
   "cell_type": "code",
   "execution_count": 81,
   "metadata": {},
   "outputs": [],
   "source": [
    "def selectionSort(alist):\n",
    "    for fillslot in range(len(alist)-1,0,-1):    \n",
    "        positionOfMax=0\n",
    "        for location in range(1,fillslot+1):     #moving through the array...\n",
    "            if alist[location]>alist[positionOfMax]: #search for the smallest number in the unsorted array\n",
    "                positionOfMax = location            \n",
    "\n",
    "        temp = alist[fillslot]                 #move the smaller element into the first unsorted location\n",
    "        alist[fillslot] = alist[positionOfMax]  \n",
    "        alist[positionOfMax] = temp"
   ]
  },
  {
   "cell_type": "markdown",
   "metadata": {},
   "source": [
    "### Testing this out on a small dataset shows it indeed works"
   ]
  },
  {
   "cell_type": "code",
   "execution_count": 82,
   "metadata": {},
   "outputs": [
    {
     "name": "stdout",
     "output_type": "stream",
     "text": [
      "[17, 20, 26, 31, 44, 54, 55, 77, 93]\n"
     ]
    }
   ],
   "source": [
    "alist = [54,26,93,17,77,31,44,55,20]\n",
    "selectionSort(alist)\n",
    "print(alist)"
   ]
  },
  {
   "cell_type": "markdown",
   "metadata": {},
   "source": [
    "### The time to run the code for each of the 8 different sized datasets is"
   ]
  },
  {
   "cell_type": "code",
   "execution_count": 83,
   "metadata": {},
   "outputs": [],
   "source": [
    "### Create funstion to calculate th eaverage length of time the coe takes to run over 10 cycles ###\n",
    "\n",
    "def timer_test_sel(random_input): #create function with the random array as the input\n",
    "    output = []               #create empty list which will have the result of each sysle appended into it\n",
    "    for i in range(1, 11):    # instruct function to run 10 times\n",
    "        random_input        #generates a new array of random numbers for each run  \n",
    "        start = time.time() #time as the code processes this line\n",
    "        selectionSort(random_input) #the sort code function (previously programmed in) is run and uses the random array as the input list to sort \n",
    "        end = time.time() #time as the code processes this line\n",
    "        x = (end - start)*1000 #difference in time between start and end, multiplied by 1000 to convert seconds to miliseconds\n",
    "        output.append(x) #the resulting time is added to the list \n",
    "\n",
    "    y = sum(output)/len(output) #find the average of all 10 runs and store it as ins_y\n",
    "\n",
    "    return y  #return ins_y as the output from the function\n",
    "\n",
    "#code written myself with some inspiration from the suggested code provided in the assignment paper"
   ]
  },
  {
   "cell_type": "code",
   "execution_count": 84,
   "metadata": {},
   "outputs": [],
   "source": [
    "sel_1 = timer_test_sel(arr100) #now call the function for each of the array sizes\n",
    "sel_2 = timer_test_sel(arr500)\n",
    "sel_3 = timer_test_sel(arr1000)\n",
    "sel_4 = timer_test_sel(arr2500)\n",
    "sel_5 = timer_test_sel(arr5000)\n",
    "sel_6 = timer_test_sel(arr7500)\n",
    "sel_7 = timer_test_sel(arr10000)\n",
    "sel_8 = timer_test_sel(arr12500)"
   ]
  },
  {
   "cell_type": "code",
   "execution_count": 85,
   "metadata": {},
   "outputs": [
    {
     "data": {
      "text/html": [
       "<div>\n",
       "<style scoped>\n",
       "    .dataframe tbody tr th:only-of-type {\n",
       "        vertical-align: middle;\n",
       "    }\n",
       "\n",
       "    .dataframe tbody tr th {\n",
       "        vertical-align: top;\n",
       "    }\n",
       "\n",
       "    .dataframe thead th {\n",
       "        text-align: right;\n",
       "    }\n",
       "</style>\n",
       "<table border=\"1\" class=\"dataframe\">\n",
       "  <thead>\n",
       "    <tr style=\"text-align: right;\">\n",
       "      <th></th>\n",
       "      <th>selection_sort</th>\n",
       "    </tr>\n",
       "    <tr>\n",
       "      <th>index</th>\n",
       "      <th></th>\n",
       "    </tr>\n",
       "  </thead>\n",
       "  <tbody>\n",
       "    <tr>\n",
       "      <th>arr100</th>\n",
       "      <td>0.8975</td>\n",
       "    </tr>\n",
       "    <tr>\n",
       "      <th>arr500</th>\n",
       "      <td>20.6480</td>\n",
       "    </tr>\n",
       "    <tr>\n",
       "      <th>arr1000</th>\n",
       "      <td>77.0958</td>\n",
       "    </tr>\n",
       "    <tr>\n",
       "      <th>arr2500</th>\n",
       "      <td>525.4917</td>\n",
       "    </tr>\n",
       "    <tr>\n",
       "      <th>arr5000</th>\n",
       "      <td>2190.6478</td>\n",
       "    </tr>\n",
       "    <tr>\n",
       "      <th>arr7500</th>\n",
       "      <td>4970.4258</td>\n",
       "    </tr>\n",
       "    <tr>\n",
       "      <th>arr10000</th>\n",
       "      <td>8608.6502</td>\n",
       "    </tr>\n",
       "    <tr>\n",
       "      <th>arr12000</th>\n",
       "      <td>13448.9906</td>\n",
       "    </tr>\n",
       "  </tbody>\n",
       "</table>\n",
       "</div>"
      ],
      "text/plain": [
       "          selection_sort\n",
       "index                   \n",
       "arr100            0.8975\n",
       "arr500           20.6480\n",
       "arr1000          77.0958\n",
       "arr2500         525.4917\n",
       "arr5000        2190.6478\n",
       "arr7500        4970.4258\n",
       "arr10000       8608.6502\n",
       "arr12000      13448.9906"
      ]
     },
     "execution_count": 85,
     "metadata": {},
     "output_type": "execute_result"
    }
   ],
   "source": [
    "sel_result = [round(sel_1, 4), round(sel_2, 4), round(sel_3, 4), round(sel_4, 4), round(sel_5, 4), round(sel_6, 4), round(sel_7, 4), round(sel_8, 4)] #create an array of the results\n",
    "df = pd.DataFrame({'selection_sort':sel_result, 'index':index}).set_index('index') #create dataframe to display the results\n",
    "df  #show df"
   ]
  },
  {
   "cell_type": "code",
   "execution_count": 86,
   "metadata": {},
   "outputs": [
    {
     "data": {
      "image/png": "[encoded data removed]",
      "text/plain": [
       "<Figure size 720x360 with 1 Axes>"
      ]
     },
     "metadata": {
      "needs_background": "light"
     },
     "output_type": "display_data"
    }
   ],
   "source": [
    "plt.figure(figsize=(10,5))  #plot results on a graph -  code written myself\n",
    "plt.plot(index, sel_result, marker='o', linewidth=2, markersize=12, label='Selection Sort')\n",
    "plt.ylabel('Time in Miliseconds')\n",
    "plt.xlabel('Arrays of varying size used as input')\n",
    "plt.xticks(np.arange(0, 8, step=1), rotation=45)\n",
    "plt.title('Time to run sort for each array')\n",
    "plt.legend()\n",
    "plt.show()"
   ]
  },
  {
   "cell_type": "markdown",
   "metadata": {},
   "source": [
    "### Benchmarking\n",
    "\n",
    "Again seen in the graph, the time taken to implement the algorithm increases exponentially as the number of elements in the data set increases. This is as expected by the O(n<sup>2</sup>) complexity. Once more, it is realtively easy to code but in reality, will have limited use. \n",
    "\n",
    "\n",
    "It should be noted that the scale of time for this curve is much higher than the Insertion Sort and Insertion sort will be much faster overall. This will be more obvious when all curves are combined later in the notebook. "
   ]
  },
  {
   "cell_type": "markdown",
   "metadata": {},
   "source": [
    "___________________________________________"
   ]
  },
  {
   "cell_type": "markdown",
   "metadata": {},
   "source": [
    "# 3) Bubble Sort (Simple and somewhat efficient on small data sets): \n",
    "\n",
    "\n",
    "<img style=\"float: right;\" src=\"https://upload.wikimedia.org/wikipedia/commons/c/c8/Bubble-sort-example-300px.gif\" alt=\"insertion\" width=\"300\"/>\n",
    "\n",
    "\n",
    "This sort cycles through either the full set of data (first run) or a subset of the data that has not been assigned a final location yet (all other remaining runs) each time to see which of the elements meets the criteria for the next position (lowest or highest depending on the requirements of the algorithm). The algorithm compares the first and second elements and decides which order they should be. It then compares the second and third, third and fourth and so on until it has moved through the while list. \n",
    "\n",
    "Once it establishes the bigger elements will therefore migrate, or bubble, towards the end and the smaller to the start with each cycle. \n",
    "\n",
    "\n",
    "A visual demonstration of this is seen on the right. \n",
    "\n",
    "- Worst Time Complexity: O(n<sup>2</sup>)\n",
    "- Average Time Complexity: O(n<sup>2</sup>)\n",
    "- Complexity to code: considered one of the *most* simple \n",
    "- Comparison sort? Yes \n",
    "- In place? Yes\n",
    "- Stable: Yes\n",
    "- When to use: It should b enoted that often it is less efficient than other similar algorithms like Insertion and Selection sorts. Only used for smaller data sets and for demonstrations/training due to its simplicity. Not suitable for large data sets.\n",
    "\n",
    "<br/>\n",
    "\n",
    "gif source: https://upload.wikimedia.org/wikipedia/commons/c/c8/Bubble-sort-example-300px.gif <br/>\n",
    "Supplimentary information source: www.geeksforgeeks.org/bubble-sort/amp/"
   ]
  },
  {
   "cell_type": "markdown",
   "metadata": {},
   "source": [
    "### A function that can perform a Bubble Sort is below:"
   ]
  },
  {
   "cell_type": "code",
   "execution_count": 87,
   "metadata": {},
   "outputs": [],
   "source": [
    "def bubbleSort(alist):\n",
    "    for passnum in range(len(alist)-1,0,-1):\n",
    "        for i in range(passnum):\n",
    "            if alist[i]>alist[i+1]:\n",
    "                temp = alist[i]\n",
    "                alist[i] = alist[i+1]\n",
    "                alist[i+1] = temp\n",
    "                \n",
    "#source: http://interactivepython.org/runestone/static/pythonds/SortSearch/TheBubbleSort.html"
   ]
  },
  {
   "cell_type": "markdown",
   "metadata": {},
   "source": [
    "### Testing this out on a small dataset shows it indeed works"
   ]
  },
  {
   "cell_type": "code",
   "execution_count": 88,
   "metadata": {},
   "outputs": [
    {
     "name": "stdout",
     "output_type": "stream",
     "text": [
      "[17, 20, 26, 31, 44, 54, 55, 77, 93]\n"
     ]
    }
   ],
   "source": [
    "alist = [54,26,93,17,77,31,44,55,20]\n",
    "bubbleSort(alist)\n",
    "print(alist)"
   ]
  },
  {
   "cell_type": "markdown",
   "metadata": {},
   "source": [
    "### The time to run the code for each of the 8 different sized datasets is"
   ]
  },
  {
   "cell_type": "code",
   "execution_count": 89,
   "metadata": {},
   "outputs": [],
   "source": [
    "def timer_test_bub(random_input): #create function with the random array as the input\n",
    "    output = []               #create empty list which will have the result of each sysle appended into it\n",
    "    for i in range(1, 11):    # instruct function to run 10 times\n",
    "        random_input        #generates a new array of random numbers for each run  \n",
    "        start = time.time() #time as the code processes this line\n",
    "        bubbleSort(random_input) #the sort code function (previously programmed in) is run and uses the random array as the input list to sort \n",
    "        end = time.time() #time as the code processes this line\n",
    "        x = (end - start)*1000 #difference in time between start and end, multiplied by 1000 to convert seconds to miliseconds\n",
    "        output.append(x) #the resulting time is added to the list \n",
    "\n",
    "    y = sum(output)/len(output) #find the average of all 10 runs and store it as y\n",
    "\n",
    "    return y  #return y as the output from the function\n",
    "\n",
    "#code written myself with some inspiration from the suggested code provided in the assignment paper"
   ]
  },
  {
   "cell_type": "code",
   "execution_count": 90,
   "metadata": {},
   "outputs": [],
   "source": [
    "bub_1 = timer_test_bub(arr100) #now call the function for each of the array sizes\n",
    "bub_2 = timer_test_bub(arr500)\n",
    "bub_3 = timer_test_bub(arr1000)\n",
    "bub_4 = timer_test_bub(arr2500)\n",
    "bub_5 = timer_test_bub(arr5000)\n",
    "bub_6 = timer_test_bub(arr7500)\n",
    "bub_7 = timer_test_bub(arr10000)\n",
    "bub_8 = timer_test_bub(arr12500)"
   ]
  },
  {
   "cell_type": "code",
   "execution_count": 91,
   "metadata": {},
   "outputs": [
    {
     "data": {
      "text/html": [
       "<div>\n",
       "<style scoped>\n",
       "    .dataframe tbody tr th:only-of-type {\n",
       "        vertical-align: middle;\n",
       "    }\n",
       "\n",
       "    .dataframe tbody tr th {\n",
       "        vertical-align: top;\n",
       "    }\n",
       "\n",
       "    .dataframe thead th {\n",
       "        text-align: right;\n",
       "    }\n",
       "</style>\n",
       "<table border=\"1\" class=\"dataframe\">\n",
       "  <thead>\n",
       "    <tr style=\"text-align: right;\">\n",
       "      <th></th>\n",
       "      <th>bubble_sort</th>\n",
       "    </tr>\n",
       "    <tr>\n",
       "      <th>index</th>\n",
       "      <th></th>\n",
       "    </tr>\n",
       "  </thead>\n",
       "  <tbody>\n",
       "    <tr>\n",
       "      <th>arr100</th>\n",
       "      <td>1.0010</td>\n",
       "    </tr>\n",
       "    <tr>\n",
       "      <th>arr500</th>\n",
       "      <td>25.5286</td>\n",
       "    </tr>\n",
       "    <tr>\n",
       "      <th>arr1000</th>\n",
       "      <td>96.0453</td>\n",
       "    </tr>\n",
       "    <tr>\n",
       "      <th>arr2500</th>\n",
       "      <td>606.4960</td>\n",
       "    </tr>\n",
       "    <tr>\n",
       "      <th>arr5000</th>\n",
       "      <td>2422.1737</td>\n",
       "    </tr>\n",
       "    <tr>\n",
       "      <th>arr7500</th>\n",
       "      <td>5520.3631</td>\n",
       "    </tr>\n",
       "    <tr>\n",
       "      <th>arr10000</th>\n",
       "      <td>9613.4986</td>\n",
       "    </tr>\n",
       "    <tr>\n",
       "      <th>arr12000</th>\n",
       "      <td>14815.1280</td>\n",
       "    </tr>\n",
       "  </tbody>\n",
       "</table>\n",
       "</div>"
      ],
      "text/plain": [
       "          bubble_sort\n",
       "index                \n",
       "arr100         1.0010\n",
       "arr500        25.5286\n",
       "arr1000       96.0453\n",
       "arr2500      606.4960\n",
       "arr5000     2422.1737\n",
       "arr7500     5520.3631\n",
       "arr10000    9613.4986\n",
       "arr12000   14815.1280"
      ]
     },
     "execution_count": 91,
     "metadata": {},
     "output_type": "execute_result"
    }
   ],
   "source": [
    "bub_result = [round(bub_1, 4), round(bub_2, 4), round(bub_3, 4), round(bub_4, 4), round(bub_5, 4), round(bub_6, 4), round(bub_7, 4), round(bub_8, 4)] #create an array of the results\n",
    "df = pd.DataFrame({'bubble_sort':bub_result, 'index':index}).set_index('index') #create dataframe to display the results\n",
    "df  #show df"
   ]
  },
  {
   "cell_type": "code",
   "execution_count": 92,
   "metadata": {},
   "outputs": [
    {
     "data": {
      "image/png": "[encoded data removed]",
      "text/plain": [
       "<Figure size 720x360 with 1 Axes>"
      ]
     },
     "metadata": {
      "needs_background": "light"
     },
     "output_type": "display_data"
    }
   ],
   "source": [
    "plt.figure(figsize=(10,5)) #plot results on a graph -  code written myself\n",
    "plt.plot(index, bub_result, marker='o', linewidth=2, markersize=12, label='Bubble Sort')\n",
    "plt.ylabel('Time in Miliseconds')\n",
    "plt.xlabel('Arrays of varying size used as input')\n",
    "plt.xticks(np.arange(0, 8, step=1), rotation=45)\n",
    "plt.title('Time to run sort for each array')\n",
    "plt.legend()\n",
    "plt.show()"
   ]
  },
  {
   "cell_type": "markdown",
   "metadata": {},
   "source": [
    "### Benchmarking\n",
    "\n",
    "Again seen in the graph, the time taken to implement the algorithm increases exponentially as the number of elements in the data set increases. This is as expected by the O(n<sup>2</sup>) average/worst complexity. Once more, it is realtively easy to code but in reality, will have limited use. \n",
    "\n",
    "Note: the scale of time for this graph is comparable to Selection Sort and although both are O(n<sup>2</sup>), Insertion sort is demonstrating much faster sorts on these data sets. "
   ]
  },
  {
   "cell_type": "markdown",
   "metadata": {},
   "source": [
    "__________________________________"
   ]
  },
  {
   "cell_type": "markdown",
   "metadata": {},
   "source": [
    "<img style=\"float: right;\" src=\"https://image.freepik.com/free-vector/suit-deck-cards-round-buttons_47243-632.jpg\" alt=\"insertion\" width=\"300\"/>\n",
    "\n",
    "# 4) Bucket Sort (Simple and efficient on small data): \n",
    "\n",
    "This sort first aims to split the bigger more complex list into smaller groups, called buckets, <br/>before using a simple search to then sort out each bucket. \n",
    "\n",
    "An example of this is seen when sorting out a deck of playing cards. The person sorting may group based on suit <br/>creating 4 x 13 managable sets to work with to order the cards from Ace to King. \n",
    "\n",
    "- Worst Time Complexity: O(n<sup>2</sup>)\n",
    "- Average case O(n+1)\n",
    "- Complexity to code: more complex\n",
    "- Comparison sort? No, a distribution sort when initially sorting into buckets but can incorporate comparison sort when sorting the managable size groups\n",
    "- In place? No\n",
    "- Stable: Yes\n",
    "- When to use: Bucket sort is mainly useful for specific cases where the dataset is uniformly distributed over a range so that effective buckets can be created to divide up the list.\n",
    "\n",
    "<br/>\n",
    "\n",
    "gif source: https://image.freepik.com/free-vector/suit-deck-cards-round-buttons_47243-632.jpg <br/>\n",
    "Supplimentary information source: www.geeksforgeeks.org/bucket-sort/amp/ & https://en.m.wikipedia.org/wiki/Bucket_sort"
   ]
  },
  {
   "cell_type": "markdown",
   "metadata": {},
   "source": [
    "### A function that can perform a Bucket Sort is below:"
   ]
  },
  {
   "cell_type": "code",
   "execution_count": 93,
   "metadata": {},
   "outputs": [],
   "source": [
    "import math\n",
    "\n",
    "def bucketSort(array, bucketSize=100):\n",
    "    if len(array) == 0:\n",
    "        return array\n",
    "\n",
    "  # Determine minimum and maximum values\n",
    "    minValue = array[0]\n",
    "    maxValue = array[0]\n",
    "    for i in range(1, len(array)):\n",
    "        if array[i] < minValue:\n",
    "            minValue = array[i]\n",
    "        elif array[i] > maxValue:\n",
    "            maxValue = array[i]\n",
    "\n",
    "  # Initialize buckets\n",
    "    bucketCount = math.floor((maxValue - minValue) / bucketSize) + 1\n",
    "    buckets = []\n",
    "    for i in range(0, bucketCount):\n",
    "        buckets.append([])\n",
    "\n",
    "  # Distribute input array values into buckets\n",
    "    for i in range(0, len(array)):\n",
    "        buckets[math.floor((array[i] - minValue) / bucketSize)].append(array[i])\n",
    "\n",
    "  # Sort buckets and place back into input array\n",
    "    array = []\n",
    "    for i in range(0, len(buckets)):\n",
    "        insertionSort(buckets[i])\n",
    "        for j in range(0, len(buckets[i])):\n",
    "            array.append(buckets[i][j])\n",
    "\n",
    "    return array\n",
    "\n",
    "#Source: https://www.growingwiththeweb.com/2015/06/bucket-sort.html"
   ]
  },
  {
   "cell_type": "markdown",
   "metadata": {},
   "source": [
    "### Testing this out on a small dataset shows it indeed works"
   ]
  },
  {
   "cell_type": "code",
   "execution_count": 94,
   "metadata": {},
   "outputs": [
    {
     "data": {
      "text/plain": [
       "[17, 20, 26, 31, 44, 54, 55, 77, 93]"
      ]
     },
     "execution_count": 94,
     "metadata": {},
     "output_type": "execute_result"
    }
   ],
   "source": [
    "bucketSort(alist)"
   ]
  },
  {
   "cell_type": "markdown",
   "metadata": {},
   "source": [
    "### The time to run the code for each of the 8 different sized datasets is"
   ]
  },
  {
   "cell_type": "code",
   "execution_count": 95,
   "metadata": {},
   "outputs": [],
   "source": [
    "def timer_test_buc(random_input): #create function with the random array as the input\n",
    "    output = []               #create empty list which will have the result of each sysle appended into it\n",
    "    for i in range(1, 11):    # instruct function to run 10 times\n",
    "        random_input        #generates a new array of random numbers for each run  \n",
    "        start = time.time() #time as the code processes this line\n",
    "        bucketSort(random_input) #the sort code function (previously programmed in) is run and uses the random array as the input list to sort \n",
    "        end = time.time() #time as the code processes this line\n",
    "        x = (end - start)*1000 #difference in time between start and end, multiplied by 1000 to convert seconds to miliseconds\n",
    "        output.append(x) #the resulting time is added to the list \n",
    "\n",
    "    y = sum(output)/len(output) #find the average of all 10 runs and store it as ins_y\n",
    "\n",
    "    return y  #return ins_y as the output from the function\n",
    "\n",
    "#code written myself with some inspiration from the suggested code provided in the assignment paper"
   ]
  },
  {
   "cell_type": "code",
   "execution_count": 96,
   "metadata": {},
   "outputs": [],
   "source": [
    "buc_1 = timer_test_buc(arr100) #now call the function for each of the array sizes\n",
    "buc_2 = timer_test_buc(arr500)\n",
    "buc_3 = timer_test_buc(arr1000)\n",
    "buc_4 = timer_test_buc(arr2500)\n",
    "buc_5 = timer_test_buc(arr5000)\n",
    "buc_6 = timer_test_buc(arr7500)\n",
    "buc_7 = timer_test_buc(arr10000)\n",
    "buc_8 = timer_test_buc(arr12500)"
   ]
  },
  {
   "cell_type": "code",
   "execution_count": 97,
   "metadata": {},
   "outputs": [
    {
     "data": {
      "text/html": [
       "<div>\n",
       "<style scoped>\n",
       "    .dataframe tbody tr th:only-of-type {\n",
       "        vertical-align: middle;\n",
       "    }\n",
       "\n",
       "    .dataframe tbody tr th {\n",
       "        vertical-align: top;\n",
       "    }\n",
       "\n",
       "    .dataframe thead th {\n",
       "        text-align: right;\n",
       "    }\n",
       "</style>\n",
       "<table border=\"1\" class=\"dataframe\">\n",
       "  <thead>\n",
       "    <tr style=\"text-align: right;\">\n",
       "      <th></th>\n",
       "      <th>bucket_sort</th>\n",
       "    </tr>\n",
       "    <tr>\n",
       "      <th>index</th>\n",
       "      <th></th>\n",
       "    </tr>\n",
       "  </thead>\n",
       "  <tbody>\n",
       "    <tr>\n",
       "      <th>arr100</th>\n",
       "      <td>89.1959</td>\n",
       "    </tr>\n",
       "    <tr>\n",
       "      <th>arr500</th>\n",
       "      <td>89.1623</td>\n",
       "    </tr>\n",
       "    <tr>\n",
       "      <th>arr1000</th>\n",
       "      <td>90.7621</td>\n",
       "    </tr>\n",
       "    <tr>\n",
       "      <th>arr2500</th>\n",
       "      <td>89.8568</td>\n",
       "    </tr>\n",
       "    <tr>\n",
       "      <th>arr5000</th>\n",
       "      <td>96.3470</td>\n",
       "    </tr>\n",
       "    <tr>\n",
       "      <th>arr7500</th>\n",
       "      <td>98.6336</td>\n",
       "    </tr>\n",
       "    <tr>\n",
       "      <th>arr10000</th>\n",
       "      <td>100.1333</td>\n",
       "    </tr>\n",
       "    <tr>\n",
       "      <th>arr12000</th>\n",
       "      <td>102.2276</td>\n",
       "    </tr>\n",
       "  </tbody>\n",
       "</table>\n",
       "</div>"
      ],
      "text/plain": [
       "          bucket_sort\n",
       "index                \n",
       "arr100        89.1959\n",
       "arr500        89.1623\n",
       "arr1000       90.7621\n",
       "arr2500       89.8568\n",
       "arr5000       96.3470\n",
       "arr7500       98.6336\n",
       "arr10000     100.1333\n",
       "arr12000     102.2276"
      ]
     },
     "execution_count": 97,
     "metadata": {},
     "output_type": "execute_result"
    }
   ],
   "source": [
    "buc_result = [round(buc_1, 4), round(buc_2, 4), round(buc_3, 4), round(buc_4, 4), round(buc_5, 4), round(buc_6, 4), round(buc_7, 4), round(buc_8, 4)] #create an array of the results\n",
    "df = pd.DataFrame({'bucket_sort':buc_result, 'index':index}).set_index('index') #create dataframe to display the results\n",
    "df  #show df"
   ]
  },
  {
   "cell_type": "code",
   "execution_count": 98,
   "metadata": {},
   "outputs": [
    {
     "data": {
      "image/png": "[encoded data removed]",
      "text/plain": [
       "<Figure size 720x360 with 1 Axes>"
      ]
     },
     "metadata": {
      "needs_background": "light"
     },
     "output_type": "display_data"
    }
   ],
   "source": [
    "plt.figure(figsize=(10,5)) #plot results on a graph -  code written myself\n",
    "plt.plot(index, buc_result, marker='o', linewidth=2, markersize=12, label='Bucket Sort')\n",
    "plt.ylabel('Time in Miliseconds')\n",
    "plt.xlabel('Arrays of varying size used as input')\n",
    "plt.xticks(np.arange(0, 8, step=1), rotation=45)\n",
    "plt.title('Time to run sort for each array')\n",
    "plt.legend()\n",
    "plt.show()"
   ]
  },
  {
   "cell_type": "markdown",
   "metadata": {},
   "source": [
    "### Benchmarking\n",
    "\n",
    "As seen in the graph, the time taken to implement the algorithm can vary significantly resulting in quite unpredictable results. As per the information known about the algorithm, it could be assumed that this is due to some random data sets being more evenly distributed than others. \n",
    "\n",
    "\n",
    "In terms of scale, this algorithm is still completing the task relatively quickly compared to Selection and Bubble sort. So although in the same order of magnitude, will be much more efficient. The results I have seen indicate that this algorithm is performing much more efficienlty than the worst case O(n<sup>2</sup>) and closer to average case (n+1). "
   ]
  },
  {
   "cell_type": "markdown",
   "metadata": {},
   "source": [
    "-----------------------------"
   ]
  },
  {
   "cell_type": "markdown",
   "metadata": {},
   "source": [
    "# 5) Merge Sort (Simple and somewhat efficient on small data sets): \n",
    "\n",
    "\n",
    "<img style=\"float: right;\" src=\"https://upload.wikimedia.org/wikipedia/commons/c/cc/Merge-sort-example-300px.gif\" alt=\"insertion\" width=\"300\"/>\n",
    "\n",
    "\n",
    "This sort splits the data down by halving each list until it breaks them into lists of 1 element and then compares those elements to build the final sorted list up again. It is a Divide and Conquer algorithm.\n",
    "\n",
    "\n",
    "A visual demonstration of this is seen on the right. \n",
    "\n",
    "\n",
    "- Worst Time Complexity: O(*n* log n)\n",
    "- Average Time Complexity: O(*n* log n)\n",
    "- Complexity to code: more complex\n",
    "- Comparison sort? Yes\n",
    "- In place? No\n",
    "- Stable: Yes\n",
    "- When to use: Where stable, reliable sorting is required rather than absolute speed. \n",
    "\n",
    "<br/>\n",
    "\n",
    "gif source: https://upload.wikimedia.org/wikipedia/commons/c/cc/Merge-sort-example-300px.gif <br/>\n",
    "Supplimentary information source: www.geeksforgeeks.org/merge-sort/amp/ & https://en.m.wikipedia.org/wiki/merge_sort"
   ]
  },
  {
   "cell_type": "markdown",
   "metadata": {},
   "source": [
    "### A function to perform a Merge Sort is below:"
   ]
  },
  {
   "cell_type": "code",
   "execution_count": 99,
   "metadata": {},
   "outputs": [],
   "source": [
    "def mergeSort(alist):\n",
    "#    print(\"Splitting \",alist)\n",
    "    if len(alist)>1:                      #when there is more than 2 elements in a list...\n",
    "        mid = len(alist)//2               #split the list in 2\n",
    "        lefthalf = alist[:mid]\n",
    "        righthalf = alist[mid:]\n",
    "\n",
    "        mergeSort(lefthalf)    #continue to split both halves until the lists are down to 1 element\n",
    "        mergeSort(righthalf)\n",
    "\n",
    "        i=0\n",
    "        j=0\n",
    "        k=0\n",
    "        while i < len(lefthalf) and j < len(righthalf): #bring the elements back together comparing their values to get them in the right order \n",
    "            if lefthalf[i] < righthalf[j]:\n",
    "                alist[k]=lefthalf[i]\n",
    "                i=i+1\n",
    "            else:\n",
    "                alist[k]=righthalf[j]\n",
    "                j=j+1\n",
    "            k=k+1\n",
    "\n",
    "        while i < len(lefthalf):\n",
    "            alist[k]=lefthalf[i]\n",
    "            i=i+1\n",
    "            k=k+1\n",
    "\n",
    "        while j < len(righthalf):\n",
    "            alist[k]=righthalf[j]\n",
    "            j=j+1\n",
    "            k=k+1\n",
    "#    print(\"Merging \",alist)\n",
    "    return alist\n",
    "#Source: https://interactivepython.org/runestone/static/pythonds/SortSearch/TheMergeSort.html?highlight=merge%20sort"
   ]
  },
  {
   "cell_type": "markdown",
   "metadata": {},
   "source": [
    "### Testing this out on a small dataset shows it indeed works"
   ]
  },
  {
   "cell_type": "code",
   "execution_count": 100,
   "metadata": {},
   "outputs": [
    {
     "data": {
      "text/plain": [
       "[17, 20, 26, 31, 44, 54, 55, 77, 93]"
      ]
     },
     "execution_count": 100,
     "metadata": {},
     "output_type": "execute_result"
    }
   ],
   "source": [
    "alist = [54,26,93,17,77,31,44,55,20]\n",
    "mergeSort(alist)"
   ]
  },
  {
   "cell_type": "markdown",
   "metadata": {},
   "source": [
    "### The time to run the code for each of the 8 different sized datasets is"
   ]
  },
  {
   "cell_type": "code",
   "execution_count": 101,
   "metadata": {},
   "outputs": [],
   "source": [
    "def timer_test_mer(random_input): #create function with the random array as the input\n",
    "    output = []               #create empty list which will have the result of each sysle appended into it\n",
    "    for i in range(1, 11):    # instruct function to run 10 times\n",
    "        random_input        #generates a new array of random numbers for each run  \n",
    "        start = time.time() #time as the code processes this line\n",
    "        mergeSort(random_input) #the sort code function (previously programmed in) is run and uses the random array as the input list to sort \n",
    "        end = time.time() #time as the code processes this line\n",
    "        x = (end - start)*1000 #difference in time between start and end, multiplied by 1000 to convert seconds to miliseconds\n",
    "        output.append(x) #the resulting time is added to the list \n",
    "\n",
    "    y = sum(output)/len(output) #find the average of all 10 runs and store it as ins_y\n",
    "\n",
    "    return y  #return y as the output from the function\n",
    "\n",
    "#code written myself with some inspiration from the suggested code provided in the assignment paper"
   ]
  },
  {
   "cell_type": "code",
   "execution_count": 102,
   "metadata": {},
   "outputs": [],
   "source": [
    "mer_1 = timer_test_mer(arr100) #now call the function for each of the array sizes\n",
    "mer_2 = timer_test_mer(arr500)\n",
    "mer_3 = timer_test_mer(arr1000)\n",
    "mer_4 = timer_test_mer(arr2500)\n",
    "mer_5 = timer_test_mer(arr5000)\n",
    "mer_6 = timer_test_mer(arr7500)\n",
    "mer_7 = timer_test_mer(arr10000)\n",
    "mer_8 = timer_test_mer(arr12500)"
   ]
  },
  {
   "cell_type": "code",
   "execution_count": 103,
   "metadata": {},
   "outputs": [
    {
     "data": {
      "text/html": [
       "<div>\n",
       "<style scoped>\n",
       "    .dataframe tbody tr th:only-of-type {\n",
       "        vertical-align: middle;\n",
       "    }\n",
       "\n",
       "    .dataframe tbody tr th {\n",
       "        vertical-align: top;\n",
       "    }\n",
       "\n",
       "    .dataframe thead th {\n",
       "        text-align: right;\n",
       "    }\n",
       "</style>\n",
       "<table border=\"1\" class=\"dataframe\">\n",
       "  <thead>\n",
       "    <tr style=\"text-align: right;\">\n",
       "      <th></th>\n",
       "      <th>merge_sort</th>\n",
       "    </tr>\n",
       "    <tr>\n",
       "      <th>index</th>\n",
       "      <th></th>\n",
       "    </tr>\n",
       "  </thead>\n",
       "  <tbody>\n",
       "    <tr>\n",
       "      <th>arr100</th>\n",
       "      <td>0.3990</td>\n",
       "    </tr>\n",
       "    <tr>\n",
       "      <th>arr500</th>\n",
       "      <td>2.5929</td>\n",
       "    </tr>\n",
       "    <tr>\n",
       "      <th>arr1000</th>\n",
       "      <td>5.3856</td>\n",
       "    </tr>\n",
       "    <tr>\n",
       "      <th>arr2500</th>\n",
       "      <td>16.7554</td>\n",
       "    </tr>\n",
       "    <tr>\n",
       "      <th>arr5000</th>\n",
       "      <td>35.6052</td>\n",
       "    </tr>\n",
       "    <tr>\n",
       "      <th>arr7500</th>\n",
       "      <td>55.8512</td>\n",
       "    </tr>\n",
       "    <tr>\n",
       "      <th>arr10000</th>\n",
       "      <td>61.3405</td>\n",
       "    </tr>\n",
       "    <tr>\n",
       "      <th>arr12000</th>\n",
       "      <td>77.7925</td>\n",
       "    </tr>\n",
       "  </tbody>\n",
       "</table>\n",
       "</div>"
      ],
      "text/plain": [
       "          merge_sort\n",
       "index               \n",
       "arr100        0.3990\n",
       "arr500        2.5929\n",
       "arr1000       5.3856\n",
       "arr2500      16.7554\n",
       "arr5000      35.6052\n",
       "arr7500      55.8512\n",
       "arr10000     61.3405\n",
       "arr12000     77.7925"
      ]
     },
     "execution_count": 103,
     "metadata": {},
     "output_type": "execute_result"
    }
   ],
   "source": [
    "mer_result = [round(mer_1, 4), round(mer_2, 4), round(mer_3, 4), round(mer_4, 4), round(mer_5, 4), round(mer_6, 4), round(mer_7, 4), round(mer_8, 4)] #create an array of the results\n",
    "df = pd.DataFrame({'merge_sort':mer_result, 'index':index}).set_index('index') #create dataframe to display the results\n",
    "df  #show df"
   ]
  },
  {
   "cell_type": "code",
   "execution_count": 104,
   "metadata": {},
   "outputs": [
    {
     "data": {
      "image/png": "[encoded data removed]",
      "text/plain": [
       "<Figure size 720x360 with 1 Axes>"
      ]
     },
     "metadata": {
      "needs_background": "light"
     },
     "output_type": "display_data"
    }
   ],
   "source": [
    "plt.figure(figsize=(10,5)) #plot results on a graph -  code written myself\n",
    "plt.plot(index, mer_result, marker='o', linewidth=2, markersize=12, label='Merge Sort')\n",
    "plt.ylabel('Time in Miliseconds')\n",
    "plt.xlabel('Arrays of varying size used as input')\n",
    "plt.xticks(np.arange(0, 8, step=1), rotation=45)\n",
    "plt.title('Time to run sort for each array')\n",
    "plt.legend()\n",
    "plt.show()"
   ]
  },
  {
   "cell_type": "markdown",
   "metadata": {},
   "source": [
    "### Benchmarking\n",
    "\n",
    "As seen in the graph, the time taken to implement the algorithm does not increase as quickly as the exponential examples seen previously.  \n",
    "\n",
    "\n",
    "In terms of scale, this algorithm is completing the task much quicker compared to Selection/Bubble sort and even faster than Insertion sort and Bucket sort. So in this case, the change in order of magnitude to O(n log n) can be seen."
   ]
  },
  {
   "cell_type": "markdown",
   "metadata": {},
   "source": [
    "---------------------------------------------------------"
   ]
  },
  {
   "cell_type": "markdown",
   "metadata": {},
   "source": [
    "# Summarised Results\n",
    "\n",
    "The table below shows the average time from 10 applications of each sorting algorithm on varying array sizes."
   ]
  },
  {
   "cell_type": "code",
   "execution_count": 105,
   "metadata": {},
   "outputs": [
    {
     "data": {
      "text/html": [
       "<div>\n",
       "<style scoped>\n",
       "    .dataframe tbody tr th:only-of-type {\n",
       "        vertical-align: middle;\n",
       "    }\n",
       "\n",
       "    .dataframe tbody tr th {\n",
       "        vertical-align: top;\n",
       "    }\n",
       "\n",
       "    .dataframe thead th {\n",
       "        text-align: right;\n",
       "    }\n",
       "</style>\n",
       "<table border=\"1\" class=\"dataframe\">\n",
       "  <thead>\n",
       "    <tr style=\"text-align: right;\">\n",
       "      <th></th>\n",
       "      <th>insertion_sort</th>\n",
       "      <th>selection_sort</th>\n",
       "      <th>bubble_sort</th>\n",
       "      <th>bucket_sort</th>\n",
       "      <th>merge_sort</th>\n",
       "    </tr>\n",
       "    <tr>\n",
       "      <th>index</th>\n",
       "      <th></th>\n",
       "      <th></th>\n",
       "      <th></th>\n",
       "      <th></th>\n",
       "      <th></th>\n",
       "    </tr>\n",
       "  </thead>\n",
       "  <tbody>\n",
       "    <tr>\n",
       "      <th>arr100</th>\n",
       "      <td>0.0997</td>\n",
       "      <td>0.8975</td>\n",
       "      <td>1.0010</td>\n",
       "      <td>89.1959</td>\n",
       "      <td>0.3990</td>\n",
       "    </tr>\n",
       "    <tr>\n",
       "      <th>arr500</th>\n",
       "      <td>1.8948</td>\n",
       "      <td>20.6480</td>\n",
       "      <td>25.5286</td>\n",
       "      <td>89.1623</td>\n",
       "      <td>2.5929</td>\n",
       "    </tr>\n",
       "    <tr>\n",
       "      <th>arr1000</th>\n",
       "      <td>7.3803</td>\n",
       "      <td>77.0958</td>\n",
       "      <td>96.0453</td>\n",
       "      <td>90.7621</td>\n",
       "      <td>5.3856</td>\n",
       "    </tr>\n",
       "    <tr>\n",
       "      <th>arr2500</th>\n",
       "      <td>47.9720</td>\n",
       "      <td>525.4917</td>\n",
       "      <td>606.4960</td>\n",
       "      <td>89.8568</td>\n",
       "      <td>16.7554</td>\n",
       "    </tr>\n",
       "    <tr>\n",
       "      <th>arr5000</th>\n",
       "      <td>183.1115</td>\n",
       "      <td>2190.6478</td>\n",
       "      <td>2422.1737</td>\n",
       "      <td>96.3470</td>\n",
       "      <td>35.6052</td>\n",
       "    </tr>\n",
       "    <tr>\n",
       "      <th>arr7500</th>\n",
       "      <td>415.9951</td>\n",
       "      <td>4970.4258</td>\n",
       "      <td>5520.3631</td>\n",
       "      <td>98.6336</td>\n",
       "      <td>55.8512</td>\n",
       "    </tr>\n",
       "    <tr>\n",
       "      <th>arr10000</th>\n",
       "      <td>784.3004</td>\n",
       "      <td>8608.6502</td>\n",
       "      <td>9613.4986</td>\n",
       "      <td>100.1333</td>\n",
       "      <td>61.3405</td>\n",
       "    </tr>\n",
       "    <tr>\n",
       "      <th>arr12000</th>\n",
       "      <td>1150.1277</td>\n",
       "      <td>13448.9906</td>\n",
       "      <td>14815.1280</td>\n",
       "      <td>102.2276</td>\n",
       "      <td>77.7925</td>\n",
       "    </tr>\n",
       "  </tbody>\n",
       "</table>\n",
       "</div>"
      ],
      "text/plain": [
       "          insertion_sort  selection_sort  bubble_sort  bucket_sort  merge_sort\n",
       "index                                                                         \n",
       "arr100            0.0997          0.8975       1.0010      89.1959      0.3990\n",
       "arr500            1.8948         20.6480      25.5286      89.1623      2.5929\n",
       "arr1000           7.3803         77.0958      96.0453      90.7621      5.3856\n",
       "arr2500          47.9720        525.4917     606.4960      89.8568     16.7554\n",
       "arr5000         183.1115       2190.6478    2422.1737      96.3470     35.6052\n",
       "arr7500         415.9951       4970.4258    5520.3631      98.6336     55.8512\n",
       "arr10000        784.3004       8608.6502    9613.4986     100.1333     61.3405\n",
       "arr12000       1150.1277      13448.9906   14815.1280     102.2276     77.7925"
      ]
     },
     "execution_count": 105,
     "metadata": {},
     "output_type": "execute_result"
    }
   ],
   "source": [
    "df = pd.DataFrame({'insertion_sort':ins_result, 'selection_sort':sel_result, 'bubble_sort':bub_result, 'bucket_sort':buc_result, 'merge_sort':mer_result, 'index':index}).set_index('index') #create dataframe to display the results\n",
    "df  #show df"
   ]
  },
  {
   "cell_type": "markdown",
   "metadata": {},
   "source": [
    "As discussed for each analysis of individual algorithms, the results have been in line with the theory presented in advance.  "
   ]
  },
  {
   "cell_type": "markdown",
   "metadata": {},
   "source": [
    "### The plot below then shows the data points visually."
   ]
  },
  {
   "cell_type": "code",
   "execution_count": 106,
   "metadata": {},
   "outputs": [
    {
     "data": {
      "image/png": "[encoded data removed]",
      "text/plain": [
       "<Figure size 1080x720 with 1 Axes>"
      ]
     },
     "metadata": {
      "needs_background": "light"
     },
     "output_type": "display_data"
    }
   ],
   "source": [
    "plt.figure(figsize=(15,10)) #plot results on a graph -  code written myself\n",
    "plt.plot(index, ins_result, marker='o', linewidth=2, markersize=12, label='Insertion Sort')\n",
    "plt.plot(index, sel_result, marker='o', linewidth=2, markersize=12, label='Selection Sort')\n",
    "plt.plot(index, buc_result, marker='o', linewidth=2, markersize=12, label='Bucket Sort')\n",
    "plt.plot(index, bub_result, marker='o', linewidth=2, markersize=12, label='Bubble Sort')\n",
    "plt.plot(index, mer_result, marker='o', linewidth=2, markersize=15, label='Merge Sort')\n",
    "plt.ylabel('Time in Miliseconds')\n",
    "plt.xlabel('Arrays of varying size used as input')\n",
    "plt.xticks(np.arange(0, 8, step=1), rotation=45)\n",
    "plt.title('Time to run sort for each array')\n",
    "plt.legend()\n",
    "plt.show()"
   ]
  },
  {
   "cell_type": "markdown",
   "metadata": {},
   "source": [
    "# Conclusion"
   ]
  },
  {
   "cell_type": "markdown",
   "metadata": {},
   "source": [
    "Bucket Sort and Merge Sort have resulted in the quickest algorithms. Insertion Sort has also shown itself to be the quickest of the remaining three. Selection Sort and Bubble Sort really showed their inefficiency when dealing with moderate size data sets. From experience, I know that ipython is using much faster algorithms even than all the examples here when analysing data. I have been developing analysis tools for 15,000 rows of .csv output relating to product complaints in order to assess our products performance. Jupyter Notebooks handle theis metadata much more effecicienty datasets that are even a little bigger."
   ]
  },
  {
   "cell_type": "markdown",
   "metadata": {},
   "source": [
    "# Reference data produced when writing the report"
   ]
  },
  {
   "cell_type": "markdown",
   "metadata": {},
   "source": [
    "<img style=\"float: centre;\" src=\"https://github.com/eimearbutler7/Computational-Thinking-Project-2019/blob/master/Insertion%20Results.png?raw=true\" alt=\"insertion\" width=\"1000\"/>"
   ]
  },
  {
   "cell_type": "markdown",
   "metadata": {},
   "source": [
    "<img style=\"float: centre;\" src=\"https://github.com/eimearbutler7/Computational-Thinking-Project-2019/blob/master/selection%20results.png?raw=true\" alt=\"insertion\" width=\"1000\"/>"
   ]
  },
  {
   "cell_type": "markdown",
   "metadata": {},
   "source": [
    "<img style=\"float: centre;\" src=\"https://github.com/eimearbutler7/Computational-Thinking-Project-2019/blob/master/Bubble%20result.png?raw=true\" alt=\"insertion\" width=\"1000\"/>"
   ]
  },
  {
   "cell_type": "markdown",
   "metadata": {},
   "source": [
    "<img style=\"float: centre;\" src=\"https://github.com/eimearbutler7/Computational-Thinking-Project-2019/blob/master/Bucket%20results.png?raw=true\" alt=\"insertion\" width=\"1000\"/>"
   ]
  },
  {
   "cell_type": "markdown",
   "metadata": {},
   "source": [
    "<img style=\"float: centre;\" src=\"https://github.com/eimearbutler7/Computational-Thinking-Project-2019/blob/master/Merge%20Result.png?raw=true\" alt=\"insertion\" width=\"1000\"/>"
   ]
  },
  {
   "cell_type": "markdown",
   "metadata": {},
   "source": [
    "<img style=\"float: centre;\" src=\"https://github.com/eimearbutler7/Computational-Thinking-Project-2019/blob/master/Table.png?raw=true\" alt=\"insertion\" width=\"1000\"/>"
   ]
  },
  {
   "cell_type": "markdown",
   "metadata": {},
   "source": [
    "# END"
   ]
  }
 ],
 "metadata": {
  "kernelspec": {
   "display_name": "Python 3",
   "language": "python",
   "name": "python3"
  },
  "language_info": {
   "codemirror_mode": {
    "name": "ipython",
    "version": 3
   },
   "file_extension": ".py",
   "mimetype": "text/x-python",
   "name": "python",
   "nbconvert_exporter": "python",
   "pygments_lexer": "ipython3",
   "version": "3.7.0"
  }
 },
 "nbformat": 4,
 "nbformat_minor": 2
}
